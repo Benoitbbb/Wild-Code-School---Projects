{
 "cells": [
  {
   "cell_type": "markdown",
   "metadata": {},
   "source": [
    "# Cellule 1 : Classe, Attributs, Méthodes"
   ]
  },
  {
   "cell_type": "code",
   "execution_count": 2,
   "metadata": {},
   "outputs": [],
   "source": [
    "import numpy as np\n",
    "\n",
    "class DataAnalyst: # Création de la classe DataAnalyst\n",
    "    \n",
    "    \"\"\"\n",
    "    Classe définissant un DataAnalyst caractérisé par:\n",
    "        - son nom\n",
    "        - son prenom\n",
    "        - son age\n",
    "        - son sexe\n",
    "        - sa formation précédente\n",
    "        - sa motivation\n",
    "        - sa progression\n",
    "    \"\"\"\n",
    "    \n",
    "    def __init__(self, nom, prenom, age, sexe, formationPrecedente, motivation, progression): \n",
    "        \"\"\"Constructeur de notre classe\"\"\"\n",
    "        self.nom = nom\n",
    "        self.prenom = prenom\n",
    "        self.age = age\n",
    "        self.sexe = sexe\n",
    "        self.formationPrecedente = formationPrecedente\n",
    "        self.motivation = 100\n",
    "        self.progression = 0\n",
    "    \n",
    "    def suivreFormation(self): # self = méthode standard\n",
    "        self.motivation -= np.random.randint(5,25)\n",
    "        self.progression += np.random.randint(20,30)\n",
    "    \n",
    "    def bosserPlus(self):\n",
    "        self.motivation += np.random.randint(10,30)\n",
    "        self.progression += np.random.randint(10,30)\n",
    "        \n",
    "    def echouer(self):\n",
    "        self.motivation -= np.random.randint(20,40)\n",
    "        self.progression += np.random.randint(20,40)\n",
    "        \n",
    "    def reussir(self):\n",
    "        self.motivation += np.random.randint(20,40)\n",
    "        self.progression += np.random.randint(10,20)\n",
    "        \n",
    "        \n",
    "# on instancie un objet data analyst\n",
    "Analyst1 = DataAnalyst(\"Durand\", \"Marc\", 35, \"Homme\", \"Architecte\", 100, 0)"
   ]
  },
  {
   "cell_type": "markdown",
   "metadata": {},
   "source": [
    "# Cellule 2 : Création du Programme"
   ]
  },
  {
   "cell_type": "code",
   "execution_count": 3,
   "metadata": {},
   "outputs": [],
   "source": [
    "def simulation(x):\n",
    "\n",
    "    for i in range(1,20): # j'ai pensé à faire un while, mais voir large avec un range passe aussi :)\n",
    "        \n",
    "            methode = np.random.randint(1,4) # on fait un random entre les différentes méthodes\n",
    "            \n",
    "            if methode == 1:\n",
    "                DataAnalyst.suivreFormation(x)\n",
    "                print(\"Tour {}, La méthode suivreFormation a été utilisée. Motivation vaut maintenant {} Progression vaut maintenant {}\".format(i, x.motivation, x.progression))                \n",
    "            \n",
    "            elif methode == 2:\n",
    "                DataAnalyst.bosserPlus(x)\n",
    "                print(\"Tour {}, La méthode bosserPlus a été utilisée. Motivation vaut maintenant {} Progression vaut maintenant {}\".format(i, x.motivation, x.progression))\n",
    "                      \n",
    "            elif methode == 3: \n",
    "                DataAnalyst.echouer(x)\n",
    "                print(\"Tour {}, La méthode echouer a été utilisée. Motivation vaut maintenant {} Progression vaut maintenant {}\".format(i, x.motivation, x.progression))\n",
    "            \n",
    "            elif methode == 4:\n",
    "                DataAnalyst.reussir(x)\n",
    "                print(\"Tour {}, La méthode reussir a été utilisée. Motivation vaut maintenant {} Progression vaut maintenant {}\".format(i, x.motivation, x.progression))\n",
    "        \n",
    "        \n",
    "            if x.motivation <= 0: # Quand la valeur de la motivation atteint zéro, la simulation s'arrête. \n",
    "                print(\"BRAVO TU AS GAGNE !!!\")\n",
    "                break\n",
    "            \n",
    "            elif x.progression >= 100: # à l'inverse, quand la progression atteint 100, cela s'arrête.\n",
    "                print(\"BRAVO TU AS APPRIS !!!\")\n",
    "                break"
   ]
  },
  {
   "cell_type": "markdown",
   "metadata": {},
   "source": [
    "# Cellule 3 : Lancement du programme"
   ]
  },
  {
   "cell_type": "code",
   "execution_count": 4,
   "metadata": {},
   "outputs": [
    {
     "name": "stdout",
     "output_type": "stream",
     "text": [
      "Tour 1, La méthode echouer a été utilisée. Motivation vaut maintenant 79 Progression vaut maintenant 27\n",
      "Tour 2, La méthode echouer a été utilisée. Motivation vaut maintenant 57 Progression vaut maintenant 63\n",
      "Tour 3, La méthode bosserPlus a été utilisée. Motivation vaut maintenant 84 Progression vaut maintenant 74\n",
      "Tour 4, La méthode suivreFormation a été utilisée. Motivation vaut maintenant 69 Progression vaut maintenant 103\n",
      "BRAVO TU AS APPRIS !!!\n"
     ]
    }
   ],
   "source": [
    "simulation(Analyst1)"
   ]
  }
 ],
 "metadata": {
  "kernelspec": {
   "display_name": "Python 3",
   "language": "python",
   "name": "python3"
  },
  "language_info": {
   "codemirror_mode": {
    "name": "ipython",
    "version": 3
   },
   "file_extension": ".py",
   "mimetype": "text/x-python",
   "name": "python",
   "nbconvert_exporter": "python",
   "pygments_lexer": "ipython3",
   "version": "3.7.1"
  }
 },
 "nbformat": 4,
 "nbformat_minor": 2
}
