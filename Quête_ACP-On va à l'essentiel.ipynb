{
 "cells": [
  {
   "cell_type": "code",
   "execution_count": 52,
   "metadata": {},
   "outputs": [],
   "source": [
    "import numpy as np\n",
    "import pandas as pd\n",
    "import matplotlib.pyplot as plt\n",
    "import seaborn as sns\n",
    "from sklearn import linear_model"
   ]
  },
  {
   "cell_type": "markdown",
   "metadata": {},
   "source": [
    "# Tâches"
   ]
  },
  {
   "cell_type": "markdown",
   "metadata": {},
   "source": [
    "### 1.1.Charge le dataset"
   ]
  },
  {
   "cell_type": "code",
   "execution_count": 5,
   "metadata": {},
   "outputs": [],
   "source": [
    "df = pd.read_csv(\"/Users/bouillaud/Desktop/WCS/QUETES/Quete_ACP/dataset_pokemon_Feuille 1.csv\")"
   ]
  },
  {
   "cell_type": "code",
   "execution_count": 7,
   "metadata": {},
   "outputs": [
    {
     "data": {
      "text/plain": [
       "(914, 9)"
      ]
     },
     "execution_count": 7,
     "metadata": {},
     "output_type": "execute_result"
    }
   ],
   "source": [
    "df.shape"
   ]
  },
  {
   "cell_type": "code",
   "execution_count": 8,
   "metadata": {},
   "outputs": [
    {
     "data": {
      "text/html": [
       "<div>\n",
       "<style scoped>\n",
       "    .dataframe tbody tr th:only-of-type {\n",
       "        vertical-align: middle;\n",
       "    }\n",
       "\n",
       "    .dataframe tbody tr th {\n",
       "        vertical-align: top;\n",
       "    }\n",
       "\n",
       "    .dataframe thead th {\n",
       "        text-align: right;\n",
       "    }\n",
       "</style>\n",
       "<table border=\"1\" class=\"dataframe\">\n",
       "  <thead>\n",
       "    <tr style=\"text-align: right;\">\n",
       "      <th></th>\n",
       "      <th>Nom</th>\n",
       "      <th>PV</th>\n",
       "      <th>Attaque</th>\n",
       "      <th>Défense</th>\n",
       "      <th>Att. Spé.</th>\n",
       "      <th>Déf. Spé.</th>\n",
       "      <th>Vitesse</th>\n",
       "      <th>Unnamed: 7</th>\n",
       "      <th>Unnamed: 8</th>\n",
       "    </tr>\n",
       "  </thead>\n",
       "  <tbody>\n",
       "    <tr>\n",
       "      <th>0</th>\n",
       "      <td>Bulbizarre</td>\n",
       "      <td>45.0</td>\n",
       "      <td>49.0</td>\n",
       "      <td>49.0</td>\n",
       "      <td>65.0</td>\n",
       "      <td>65.0</td>\n",
       "      <td>45.0</td>\n",
       "      <td>318</td>\n",
       "      <td>53</td>\n",
       "    </tr>\n",
       "    <tr>\n",
       "      <th>1</th>\n",
       "      <td>Herbizarre</td>\n",
       "      <td>60.0</td>\n",
       "      <td>62.0</td>\n",
       "      <td>63.0</td>\n",
       "      <td>80.0</td>\n",
       "      <td>80.0</td>\n",
       "      <td>60.0</td>\n",
       "      <td>405</td>\n",
       "      <td>67,5</td>\n",
       "    </tr>\n",
       "    <tr>\n",
       "      <th>2</th>\n",
       "      <td>Florizarre</td>\n",
       "      <td>80.0</td>\n",
       "      <td>82.0</td>\n",
       "      <td>83.0</td>\n",
       "      <td>100.0</td>\n",
       "      <td>100.0</td>\n",
       "      <td>80.0</td>\n",
       "      <td>525</td>\n",
       "      <td>87,5</td>\n",
       "    </tr>\n",
       "    <tr>\n",
       "      <th>3</th>\n",
       "      <td>Méga-Florizarre</td>\n",
       "      <td>80.0</td>\n",
       "      <td>100.0</td>\n",
       "      <td>123.0</td>\n",
       "      <td>122.0</td>\n",
       "      <td>120.0</td>\n",
       "      <td>80.0</td>\n",
       "      <td>625</td>\n",
       "      <td>104,17</td>\n",
       "    </tr>\n",
       "    <tr>\n",
       "      <th>4</th>\n",
       "      <td>Salamèche</td>\n",
       "      <td>39.0</td>\n",
       "      <td>52.0</td>\n",
       "      <td>43.0</td>\n",
       "      <td>NaN</td>\n",
       "      <td>50.0</td>\n",
       "      <td>65.0</td>\n",
       "      <td>309</td>\n",
       "      <td>51,5</td>\n",
       "    </tr>\n",
       "  </tbody>\n",
       "</table>\n",
       "</div>"
      ],
      "text/plain": [
       "               Nom    PV  Attaque  Défense  Att. Spé.  Déf. Spé.  Vitesse  \\\n",
       "0       Bulbizarre  45.0     49.0     49.0       65.0       65.0     45.0   \n",
       "1       Herbizarre  60.0     62.0     63.0       80.0       80.0     60.0   \n",
       "2       Florizarre  80.0     82.0     83.0      100.0      100.0     80.0   \n",
       "3  Méga-Florizarre  80.0    100.0    123.0      122.0      120.0     80.0   \n",
       "4        Salamèche  39.0     52.0     43.0        NaN       50.0     65.0   \n",
       "\n",
       "  Unnamed: 7 Unnamed: 8  \n",
       "0        318         53  \n",
       "1        405       67,5  \n",
       "2        525       87,5  \n",
       "3        625     104,17  \n",
       "4        309       51,5  "
      ]
     },
     "execution_count": 8,
     "metadata": {},
     "output_type": "execute_result"
    }
   ],
   "source": [
    "# Unnamed: 7 = Total\n",
    "# Unnamed: 8 = Moyenne\n",
    "df.head()"
   ]
  },
  {
   "cell_type": "markdown",
   "metadata": {},
   "source": [
    "### 1.2.Trouve un moyen de compléter le dataframe pour qu'il soit remplie à 100%\n",
    "### 1.3.Tranforme toutes les colonnes en float sauf la colonne Nom (logique)"
   ]
  },
  {
   "cell_type": "code",
   "execution_count": 9,
   "metadata": {},
   "outputs": [
    {
     "data": {
      "text/plain": [
       "count         914\n",
       "unique        914\n",
       "top       Mélofée\n",
       "freq            1\n",
       "Name: Nom, dtype: object"
      ]
     },
     "execution_count": 9,
     "metadata": {},
     "output_type": "execute_result"
    }
   ],
   "source": [
    "df[\"Nom\"].describe() # Constat : un nom pour chaque ligne, de type objet"
   ]
  },
  {
   "cell_type": "code",
   "execution_count": 10,
   "metadata": {},
   "outputs": [
    {
     "data": {
      "text/plain": [
       "count    909.000000\n",
       "mean      69.501650\n",
       "std       26.197808\n",
       "min        1.000000\n",
       "25%       50.000000\n",
       "50%       65.000000\n",
       "75%       80.000000\n",
       "max      255.000000\n",
       "Name: PV, dtype: float64"
      ]
     },
     "execution_count": 10,
     "metadata": {},
     "output_type": "execute_result"
    }
   ],
   "source": [
    "df[\"PV\"].describe()"
   ]
  },
  {
   "cell_type": "code",
   "execution_count": 11,
   "metadata": {},
   "outputs": [
    {
     "data": {
      "text/html": [
       "<div>\n",
       "<style scoped>\n",
       "    .dataframe tbody tr th:only-of-type {\n",
       "        vertical-align: middle;\n",
       "    }\n",
       "\n",
       "    .dataframe tbody tr th {\n",
       "        vertical-align: top;\n",
       "    }\n",
       "\n",
       "    .dataframe thead th {\n",
       "        text-align: right;\n",
       "    }\n",
       "</style>\n",
       "<table border=\"1\" class=\"dataframe\">\n",
       "  <thead>\n",
       "    <tr style=\"text-align: right;\">\n",
       "      <th></th>\n",
       "      <th>Nom</th>\n",
       "      <th>PV</th>\n",
       "      <th>Attaque</th>\n",
       "      <th>Défense</th>\n",
       "      <th>Att. Spé.</th>\n",
       "      <th>Déf. Spé.</th>\n",
       "      <th>Vitesse</th>\n",
       "      <th>Unnamed: 7</th>\n",
       "      <th>Unnamed: 8</th>\n",
       "    </tr>\n",
       "  </thead>\n",
       "  <tbody>\n",
       "    <tr>\n",
       "      <th>478</th>\n",
       "      <td>Cheniselle\\n(Cape Déchet)</td>\n",
       "      <td>NaN</td>\n",
       "      <td>69.0</td>\n",
       "      <td>95.0</td>\n",
       "      <td>69.0</td>\n",
       "      <td>95.0</td>\n",
       "      <td>36.0</td>\n",
       "      <td>424</td>\n",
       "      <td>70,67</td>\n",
       "    </tr>\n",
       "    <tr>\n",
       "      <th>766</th>\n",
       "      <td>Dimoclès</td>\n",
       "      <td>NaN</td>\n",
       "      <td>110.0</td>\n",
       "      <td>150.0</td>\n",
       "      <td>45.0</td>\n",
       "      <td>49.0</td>\n",
       "      <td>35.0</td>\n",
       "      <td>448</td>\n",
       "      <td>74,67</td>\n",
       "    </tr>\n",
       "    <tr>\n",
       "      <th>784</th>\n",
       "      <td>Rexillius</td>\n",
       "      <td>NaN</td>\n",
       "      <td>121.0</td>\n",
       "      <td>119.0</td>\n",
       "      <td>69.0</td>\n",
       "      <td>59.0</td>\n",
       "      <td>71.0</td>\n",
       "      <td>521</td>\n",
       "      <td>86,83</td>\n",
       "    </tr>\n",
       "    <tr>\n",
       "      <th>785</th>\n",
       "      <td>Amagara</td>\n",
       "      <td>NaN</td>\n",
       "      <td>59.0</td>\n",
       "      <td>50.0</td>\n",
       "      <td>67.0</td>\n",
       "      <td>63.0</td>\n",
       "      <td>46.0</td>\n",
       "      <td>362</td>\n",
       "      <td>60,33</td>\n",
       "    </tr>\n",
       "    <tr>\n",
       "      <th>786</th>\n",
       "      <td>Dragmara</td>\n",
       "      <td>NaN</td>\n",
       "      <td>77.0</td>\n",
       "      <td>72.0</td>\n",
       "      <td>99.0</td>\n",
       "      <td>92.0</td>\n",
       "      <td>58.0</td>\n",
       "      <td>521</td>\n",
       "      <td>86,83</td>\n",
       "    </tr>\n",
       "  </tbody>\n",
       "</table>\n",
       "</div>"
      ],
      "text/plain": [
       "                           Nom  PV  Attaque  Défense  Att. Spé.  Déf. Spé.  \\\n",
       "478  Cheniselle\\n(Cape Déchet) NaN     69.0     95.0       69.0       95.0   \n",
       "766                   Dimoclès NaN    110.0    150.0       45.0       49.0   \n",
       "784                  Rexillius NaN    121.0    119.0       69.0       59.0   \n",
       "785                    Amagara NaN     59.0     50.0       67.0       63.0   \n",
       "786                   Dragmara NaN     77.0     72.0       99.0       92.0   \n",
       "\n",
       "     Vitesse Unnamed: 7 Unnamed: 8  \n",
       "478     36.0        424      70,67  \n",
       "766     35.0        448      74,67  \n",
       "784     71.0        521      86,83  \n",
       "785     46.0        362      60,33  \n",
       "786     58.0        521      86,83  "
      ]
     },
     "execution_count": 11,
     "metadata": {},
     "output_type": "execute_result"
    }
   ],
   "source": [
    "PV_manquant = df[pd.isna(df['PV'])] # on cherche les valeurs manquantes (autre solution : df[df[\"PV\"].isnull()])\n",
    "PV_manquant"
   ]
  },
  {
   "cell_type": "code",
   "execution_count": 12,
   "metadata": {},
   "outputs": [],
   "source": [
    "# remplacement des strings pour les colonnes 7 & 8"
   ]
  },
  {
   "cell_type": "code",
   "execution_count": 13,
   "metadata": {},
   "outputs": [],
   "source": [
    "df[\"Unnamed: 7\"] = df[\"Unnamed: 7\"].str.replace(r\"[a-zA-Z]\",'')"
   ]
  },
  {
   "cell_type": "code",
   "execution_count": 14,
   "metadata": {},
   "outputs": [],
   "source": [
    "df[\"Unnamed: 8\"] = df[\"Unnamed: 8\"].str.replace(r\"[a-zA-Z]\",'')"
   ]
  },
  {
   "cell_type": "code",
   "execution_count": 15,
   "metadata": {},
   "outputs": [],
   "source": [
    "# remplacement des virgules, point-virgules pour la colonne 8"
   ]
  },
  {
   "cell_type": "code",
   "execution_count": 16,
   "metadata": {},
   "outputs": [],
   "source": [
    "df[\"Unnamed: 8\"] = df[\"Unnamed: 8\"].str.replace(\",\",\".\")"
   ]
  },
  {
   "cell_type": "code",
   "execution_count": 17,
   "metadata": {},
   "outputs": [],
   "source": [
    "df[\"Unnamed: 8\"] = df[\"Unnamed: 8\"].str.replace(\";\",\".\")"
   ]
  },
  {
   "cell_type": "code",
   "execution_count": 18,
   "metadata": {},
   "outputs": [],
   "source": [
    "# conversion des valeurs aux colonnes 7 & 8 en float"
   ]
  },
  {
   "cell_type": "code",
   "execution_count": 19,
   "metadata": {},
   "outputs": [],
   "source": [
    "df[\"Unnamed: 7\"] = pd.to_numeric(df[\"Unnamed: 7\"], downcast=\"float\")"
   ]
  },
  {
   "cell_type": "code",
   "execution_count": 20,
   "metadata": {},
   "outputs": [],
   "source": [
    "df[\"Unnamed: 8\"] = pd.to_numeric(df[\"Unnamed: 8\"], downcast=\"float\")"
   ]
  },
  {
   "cell_type": "code",
   "execution_count": 21,
   "metadata": {},
   "outputs": [],
   "source": [
    "# confirmation de la conversion"
   ]
  },
  {
   "cell_type": "code",
   "execution_count": 22,
   "metadata": {},
   "outputs": [
    {
     "data": {
      "text/plain": [
       "dtype('float32')"
      ]
     },
     "execution_count": 22,
     "metadata": {},
     "output_type": "execute_result"
    }
   ],
   "source": [
    "df[\"Unnamed: 7\"].dtype"
   ]
  },
  {
   "cell_type": "code",
   "execution_count": 23,
   "metadata": {},
   "outputs": [
    {
     "data": {
      "text/plain": [
       "dtype('float32')"
      ]
     },
     "execution_count": 23,
     "metadata": {},
     "output_type": "execute_result"
    }
   ],
   "source": [
    "df[\"Unnamed: 8\"].dtype"
   ]
  },
  {
   "cell_type": "code",
   "execution_count": 24,
   "metadata": {},
   "outputs": [],
   "source": [
    "df2 = df"
   ]
  },
  {
   "cell_type": "markdown",
   "metadata": {},
   "source": [
    "#### Colonne PV"
   ]
  },
  {
   "cell_type": "code",
   "execution_count": 25,
   "metadata": {},
   "outputs": [
    {
     "data": {
      "text/html": [
       "<div>\n",
       "<style scoped>\n",
       "    .dataframe tbody tr th:only-of-type {\n",
       "        vertical-align: middle;\n",
       "    }\n",
       "\n",
       "    .dataframe tbody tr th {\n",
       "        vertical-align: top;\n",
       "    }\n",
       "\n",
       "    .dataframe thead th {\n",
       "        text-align: right;\n",
       "    }\n",
       "</style>\n",
       "<table border=\"1\" class=\"dataframe\">\n",
       "  <thead>\n",
       "    <tr style=\"text-align: right;\">\n",
       "      <th></th>\n",
       "      <th>Nom</th>\n",
       "      <th>PV</th>\n",
       "      <th>Attaque</th>\n",
       "      <th>Défense</th>\n",
       "      <th>Att. Spé.</th>\n",
       "      <th>Déf. Spé.</th>\n",
       "      <th>Vitesse</th>\n",
       "      <th>Unnamed: 7</th>\n",
       "      <th>Unnamed: 8</th>\n",
       "    </tr>\n",
       "  </thead>\n",
       "  <tbody>\n",
       "    <tr>\n",
       "      <th>478</th>\n",
       "      <td>Cheniselle\\n(Cape Déchet)</td>\n",
       "      <td>NaN</td>\n",
       "      <td>69.0</td>\n",
       "      <td>95.0</td>\n",
       "      <td>69.0</td>\n",
       "      <td>95.0</td>\n",
       "      <td>36.0</td>\n",
       "      <td>424.0</td>\n",
       "      <td>70.669998</td>\n",
       "    </tr>\n",
       "    <tr>\n",
       "      <th>766</th>\n",
       "      <td>Dimoclès</td>\n",
       "      <td>NaN</td>\n",
       "      <td>110.0</td>\n",
       "      <td>150.0</td>\n",
       "      <td>45.0</td>\n",
       "      <td>49.0</td>\n",
       "      <td>35.0</td>\n",
       "      <td>448.0</td>\n",
       "      <td>74.669998</td>\n",
       "    </tr>\n",
       "    <tr>\n",
       "      <th>784</th>\n",
       "      <td>Rexillius</td>\n",
       "      <td>NaN</td>\n",
       "      <td>121.0</td>\n",
       "      <td>119.0</td>\n",
       "      <td>69.0</td>\n",
       "      <td>59.0</td>\n",
       "      <td>71.0</td>\n",
       "      <td>521.0</td>\n",
       "      <td>86.830002</td>\n",
       "    </tr>\n",
       "    <tr>\n",
       "      <th>785</th>\n",
       "      <td>Amagara</td>\n",
       "      <td>NaN</td>\n",
       "      <td>59.0</td>\n",
       "      <td>50.0</td>\n",
       "      <td>67.0</td>\n",
       "      <td>63.0</td>\n",
       "      <td>46.0</td>\n",
       "      <td>362.0</td>\n",
       "      <td>60.330002</td>\n",
       "    </tr>\n",
       "    <tr>\n",
       "      <th>786</th>\n",
       "      <td>Dragmara</td>\n",
       "      <td>NaN</td>\n",
       "      <td>77.0</td>\n",
       "      <td>72.0</td>\n",
       "      <td>99.0</td>\n",
       "      <td>92.0</td>\n",
       "      <td>58.0</td>\n",
       "      <td>521.0</td>\n",
       "      <td>86.830002</td>\n",
       "    </tr>\n",
       "  </tbody>\n",
       "</table>\n",
       "</div>"
      ],
      "text/plain": [
       "                           Nom  PV  Attaque  Défense  Att. Spé.  Déf. Spé.  \\\n",
       "478  Cheniselle\\n(Cape Déchet) NaN     69.0     95.0       69.0       95.0   \n",
       "766                   Dimoclès NaN    110.0    150.0       45.0       49.0   \n",
       "784                  Rexillius NaN    121.0    119.0       69.0       59.0   \n",
       "785                    Amagara NaN     59.0     50.0       67.0       63.0   \n",
       "786                   Dragmara NaN     77.0     72.0       99.0       92.0   \n",
       "\n",
       "     Vitesse  Unnamed: 7  Unnamed: 8  \n",
       "478     36.0       424.0   70.669998  \n",
       "766     35.0       448.0   74.669998  \n",
       "784     71.0       521.0   86.830002  \n",
       "785     46.0       362.0   60.330002  \n",
       "786     58.0       521.0   86.830002  "
      ]
     },
     "execution_count": 25,
     "metadata": {},
     "output_type": "execute_result"
    }
   ],
   "source": [
    "df2[df2[\"PV\"].isnull()]"
   ]
  },
  {
   "cell_type": "code",
   "execution_count": 26,
   "metadata": {},
   "outputs": [],
   "source": [
    "import math\n",
    "for index, row in df2.iterrows():\n",
    "    val_pv = row['PV']\n",
    "    if math.isnan(val_pv):\n",
    "        df2.loc[index,'PV'] = ((row['Unnamed: 7']) - ((row['Attaque'])+(row['Défense'])+(row['Att. Spé.'])+(row['Déf. Spé.'])+(row['Vitesse'])))\n"
   ]
  },
  {
   "cell_type": "code",
   "execution_count": 27,
   "metadata": {},
   "outputs": [
    {
     "data": {
      "text/html": [
       "<div>\n",
       "<style scoped>\n",
       "    .dataframe tbody tr th:only-of-type {\n",
       "        vertical-align: middle;\n",
       "    }\n",
       "\n",
       "    .dataframe tbody tr th {\n",
       "        vertical-align: top;\n",
       "    }\n",
       "\n",
       "    .dataframe thead th {\n",
       "        text-align: right;\n",
       "    }\n",
       "</style>\n",
       "<table border=\"1\" class=\"dataframe\">\n",
       "  <thead>\n",
       "    <tr style=\"text-align: right;\">\n",
       "      <th></th>\n",
       "      <th>Nom</th>\n",
       "      <th>PV</th>\n",
       "      <th>Attaque</th>\n",
       "      <th>Défense</th>\n",
       "      <th>Att. Spé.</th>\n",
       "      <th>Déf. Spé.</th>\n",
       "      <th>Vitesse</th>\n",
       "      <th>Unnamed: 7</th>\n",
       "      <th>Unnamed: 8</th>\n",
       "    </tr>\n",
       "  </thead>\n",
       "  <tbody>\n",
       "  </tbody>\n",
       "</table>\n",
       "</div>"
      ],
      "text/plain": [
       "Empty DataFrame\n",
       "Columns: [Nom, PV, Attaque, Défense, Att. Spé., Déf. Spé., Vitesse, Unnamed: 7, Unnamed: 8]\n",
       "Index: []"
      ]
     },
     "execution_count": 27,
     "metadata": {},
     "output_type": "execute_result"
    }
   ],
   "source": [
    "df2[df2[\"PV\"].isnull()] # il n'y a plus de valeurs nulles."
   ]
  },
  {
   "cell_type": "markdown",
   "metadata": {},
   "source": [
    "#### Colonne Attaque"
   ]
  },
  {
   "cell_type": "code",
   "execution_count": 28,
   "metadata": {},
   "outputs": [
    {
     "data": {
      "text/html": [
       "<div>\n",
       "<style scoped>\n",
       "    .dataframe tbody tr th:only-of-type {\n",
       "        vertical-align: middle;\n",
       "    }\n",
       "\n",
       "    .dataframe tbody tr th {\n",
       "        vertical-align: top;\n",
       "    }\n",
       "\n",
       "    .dataframe thead th {\n",
       "        text-align: right;\n",
       "    }\n",
       "</style>\n",
       "<table border=\"1\" class=\"dataframe\">\n",
       "  <thead>\n",
       "    <tr style=\"text-align: right;\">\n",
       "      <th></th>\n",
       "      <th>Nom</th>\n",
       "      <th>PV</th>\n",
       "      <th>Attaque</th>\n",
       "      <th>Défense</th>\n",
       "      <th>Att. Spé.</th>\n",
       "      <th>Déf. Spé.</th>\n",
       "      <th>Vitesse</th>\n",
       "      <th>Unnamed: 7</th>\n",
       "      <th>Unnamed: 8</th>\n",
       "    </tr>\n",
       "  </thead>\n",
       "  <tbody>\n",
       "    <tr>\n",
       "      <th>50</th>\n",
       "      <td>Feunard d'Alola</td>\n",
       "      <td>73.0</td>\n",
       "      <td>NaN</td>\n",
       "      <td>75.0</td>\n",
       "      <td>81.0</td>\n",
       "      <td>100.0</td>\n",
       "      <td>109.0</td>\n",
       "      <td>505.0</td>\n",
       "      <td>84.169998</td>\n",
       "    </tr>\n",
       "    <tr>\n",
       "      <th>139</th>\n",
       "      <td>Leveinard</td>\n",
       "      <td>250.0</td>\n",
       "      <td>NaN</td>\n",
       "      <td>5.0</td>\n",
       "      <td>35.0</td>\n",
       "      <td>105.0</td>\n",
       "      <td>50.0</td>\n",
       "      <td>450.0</td>\n",
       "      <td>75.000000</td>\n",
       "    </tr>\n",
       "    <tr>\n",
       "      <th>364</th>\n",
       "      <td>Avaltout</td>\n",
       "      <td>100.0</td>\n",
       "      <td>NaN</td>\n",
       "      <td>83.0</td>\n",
       "      <td>73.0</td>\n",
       "      <td>83.0</td>\n",
       "      <td>55.0</td>\n",
       "      <td>467.0</td>\n",
       "      <td>NaN</td>\n",
       "    </tr>\n",
       "    <tr>\n",
       "      <th>443</th>\n",
       "      <td>Rayquaza</td>\n",
       "      <td>105.0</td>\n",
       "      <td>NaN</td>\n",
       "      <td>90.0</td>\n",
       "      <td>150.0</td>\n",
       "      <td>90.0</td>\n",
       "      <td>95.0</td>\n",
       "      <td>680.0</td>\n",
       "      <td>113.330002</td>\n",
       "    </tr>\n",
       "    <tr>\n",
       "      <th>525</th>\n",
       "      <td>Luminéon</td>\n",
       "      <td>69.0</td>\n",
       "      <td>NaN</td>\n",
       "      <td>76.0</td>\n",
       "      <td>69.0</td>\n",
       "      <td>86.0</td>\n",
       "      <td>91.0</td>\n",
       "      <td>460.0</td>\n",
       "      <td>76.669998</td>\n",
       "    </tr>\n",
       "    <tr>\n",
       "      <th>818</th>\n",
       "      <td>Volcanion</td>\n",
       "      <td>80.0</td>\n",
       "      <td>NaN</td>\n",
       "      <td>120.0</td>\n",
       "      <td>130.0</td>\n",
       "      <td>90.0</td>\n",
       "      <td>70.0</td>\n",
       "      <td>600.0</td>\n",
       "      <td>100.000000</td>\n",
       "    </tr>\n",
       "    <tr>\n",
       "      <th>819</th>\n",
       "      <td>Brindibou</td>\n",
       "      <td>68.0</td>\n",
       "      <td>NaN</td>\n",
       "      <td>55.0</td>\n",
       "      <td>50.0</td>\n",
       "      <td>50.0</td>\n",
       "      <td>42.0</td>\n",
       "      <td>320.0</td>\n",
       "      <td>53.330002</td>\n",
       "    </tr>\n",
       "    <tr>\n",
       "      <th>820</th>\n",
       "      <td>Efflèche</td>\n",
       "      <td>78.0</td>\n",
       "      <td>NaN</td>\n",
       "      <td>75.0</td>\n",
       "      <td>70.0</td>\n",
       "      <td>70.0</td>\n",
       "      <td>52.0</td>\n",
       "      <td>420.0</td>\n",
       "      <td>70.000000</td>\n",
       "    </tr>\n",
       "    <tr>\n",
       "      <th>821</th>\n",
       "      <td>Archéduc</td>\n",
       "      <td>78.0</td>\n",
       "      <td>NaN</td>\n",
       "      <td>75.0</td>\n",
       "      <td>100.0</td>\n",
       "      <td>100.0</td>\n",
       "      <td>70.0</td>\n",
       "      <td>530.0</td>\n",
       "      <td>88.330002</td>\n",
       "    </tr>\n",
       "    <tr>\n",
       "      <th>822</th>\n",
       "      <td>Flamiaou</td>\n",
       "      <td>45.0</td>\n",
       "      <td>NaN</td>\n",
       "      <td>40.0</td>\n",
       "      <td>60.0</td>\n",
       "      <td>40.0</td>\n",
       "      <td>70.0</td>\n",
       "      <td>320.0</td>\n",
       "      <td>55.330002</td>\n",
       "    </tr>\n",
       "  </tbody>\n",
       "</table>\n",
       "</div>"
      ],
      "text/plain": [
       "                 Nom     PV  Attaque  Défense  Att. Spé.  Déf. Spé.  Vitesse  \\\n",
       "50   Feunard d'Alola   73.0      NaN     75.0       81.0      100.0    109.0   \n",
       "139        Leveinard  250.0      NaN      5.0       35.0      105.0     50.0   \n",
       "364         Avaltout  100.0      NaN     83.0       73.0       83.0     55.0   \n",
       "443         Rayquaza  105.0      NaN     90.0      150.0       90.0     95.0   \n",
       "525         Luminéon   69.0      NaN     76.0       69.0       86.0     91.0   \n",
       "818        Volcanion   80.0      NaN    120.0      130.0       90.0     70.0   \n",
       "819        Brindibou   68.0      NaN     55.0       50.0       50.0     42.0   \n",
       "820         Efflèche   78.0      NaN     75.0       70.0       70.0     52.0   \n",
       "821         Archéduc   78.0      NaN     75.0      100.0      100.0     70.0   \n",
       "822         Flamiaou   45.0      NaN     40.0       60.0       40.0     70.0   \n",
       "\n",
       "     Unnamed: 7  Unnamed: 8  \n",
       "50        505.0   84.169998  \n",
       "139       450.0   75.000000  \n",
       "364       467.0         NaN  \n",
       "443       680.0  113.330002  \n",
       "525       460.0   76.669998  \n",
       "818       600.0  100.000000  \n",
       "819       320.0   53.330002  \n",
       "820       420.0   70.000000  \n",
       "821       530.0   88.330002  \n",
       "822       320.0   55.330002  "
      ]
     },
     "execution_count": 28,
     "metadata": {},
     "output_type": "execute_result"
    }
   ],
   "source": [
    "df2[df2[\"Attaque\"].isnull()]"
   ]
  },
  {
   "cell_type": "code",
   "execution_count": 29,
   "metadata": {},
   "outputs": [],
   "source": [
    "for index, row in df2.iterrows():\n",
    "    val_attaque = row['Attaque']\n",
    "    if math.isnan(val_attaque):\n",
    "        df2.loc[index,'Attaque'] = ((row['Unnamed: 7']) - ((row['PV'])+(row['Défense'])+(row['Att. Spé.'])+(row['Déf. Spé.'])+(row['Vitesse'])))"
   ]
  },
  {
   "cell_type": "code",
   "execution_count": 30,
   "metadata": {},
   "outputs": [
    {
     "data": {
      "text/html": [
       "<div>\n",
       "<style scoped>\n",
       "    .dataframe tbody tr th:only-of-type {\n",
       "        vertical-align: middle;\n",
       "    }\n",
       "\n",
       "    .dataframe tbody tr th {\n",
       "        vertical-align: top;\n",
       "    }\n",
       "\n",
       "    .dataframe thead th {\n",
       "        text-align: right;\n",
       "    }\n",
       "</style>\n",
       "<table border=\"1\" class=\"dataframe\">\n",
       "  <thead>\n",
       "    <tr style=\"text-align: right;\">\n",
       "      <th></th>\n",
       "      <th>Nom</th>\n",
       "      <th>PV</th>\n",
       "      <th>Attaque</th>\n",
       "      <th>Défense</th>\n",
       "      <th>Att. Spé.</th>\n",
       "      <th>Déf. Spé.</th>\n",
       "      <th>Vitesse</th>\n",
       "      <th>Unnamed: 7</th>\n",
       "      <th>Unnamed: 8</th>\n",
       "    </tr>\n",
       "  </thead>\n",
       "  <tbody>\n",
       "  </tbody>\n",
       "</table>\n",
       "</div>"
      ],
      "text/plain": [
       "Empty DataFrame\n",
       "Columns: [Nom, PV, Attaque, Défense, Att. Spé., Déf. Spé., Vitesse, Unnamed: 7, Unnamed: 8]\n",
       "Index: []"
      ]
     },
     "execution_count": 30,
     "metadata": {},
     "output_type": "execute_result"
    }
   ],
   "source": [
    "df2[df2[\"Attaque\"].isnull()] # il n'y a plus de valeurs nulles."
   ]
  },
  {
   "cell_type": "markdown",
   "metadata": {},
   "source": [
    "#### Colonne Défense"
   ]
  },
  {
   "cell_type": "code",
   "execution_count": 31,
   "metadata": {},
   "outputs": [
    {
     "data": {
      "text/html": [
       "<div>\n",
       "<style scoped>\n",
       "    .dataframe tbody tr th:only-of-type {\n",
       "        vertical-align: middle;\n",
       "    }\n",
       "\n",
       "    .dataframe tbody tr th {\n",
       "        vertical-align: top;\n",
       "    }\n",
       "\n",
       "    .dataframe thead th {\n",
       "        text-align: right;\n",
       "    }\n",
       "</style>\n",
       "<table border=\"1\" class=\"dataframe\">\n",
       "  <thead>\n",
       "    <tr style=\"text-align: right;\">\n",
       "      <th></th>\n",
       "      <th>Nom</th>\n",
       "      <th>PV</th>\n",
       "      <th>Attaque</th>\n",
       "      <th>Défense</th>\n",
       "      <th>Att. Spé.</th>\n",
       "      <th>Déf. Spé.</th>\n",
       "      <th>Vitesse</th>\n",
       "      <th>Unnamed: 7</th>\n",
       "      <th>Unnamed: 8</th>\n",
       "    </tr>\n",
       "  </thead>\n",
       "  <tbody>\n",
       "    <tr>\n",
       "      <th>9</th>\n",
       "      <td>Carapuce</td>\n",
       "      <td>44.0</td>\n",
       "      <td>48.0</td>\n",
       "      <td>NaN</td>\n",
       "      <td>50.0</td>\n",
       "      <td>64.0</td>\n",
       "      <td>43.0</td>\n",
       "      <td>314.0</td>\n",
       "      <td>52.330002</td>\n",
       "    </tr>\n",
       "    <tr>\n",
       "      <th>67</th>\n",
       "      <td>Miaouss d'Alola</td>\n",
       "      <td>40.0</td>\n",
       "      <td>35.0</td>\n",
       "      <td>NaN</td>\n",
       "      <td>50.0</td>\n",
       "      <td>40.0</td>\n",
       "      <td>90.0</td>\n",
       "      <td>290.0</td>\n",
       "      <td>48.330002</td>\n",
       "    </tr>\n",
       "    <tr>\n",
       "      <th>180</th>\n",
       "      <td>Mewtwo</td>\n",
       "      <td>106.0</td>\n",
       "      <td>110.0</td>\n",
       "      <td>NaN</td>\n",
       "      <td>154.0</td>\n",
       "      <td>90.0</td>\n",
       "      <td>130.0</td>\n",
       "      <td>680.0</td>\n",
       "      <td>113.330002</td>\n",
       "    </tr>\n",
       "    <tr>\n",
       "      <th>292</th>\n",
       "      <td>Jungko</td>\n",
       "      <td>70.0</td>\n",
       "      <td>85.0</td>\n",
       "      <td>NaN</td>\n",
       "      <td>105.0</td>\n",
       "      <td>85.0</td>\n",
       "      <td>120.0</td>\n",
       "      <td>530.0</td>\n",
       "      <td>88.330002</td>\n",
       "    </tr>\n",
       "    <tr>\n",
       "      <th>550</th>\n",
       "      <td>Motisma\\n(Forme Chaleur)</td>\n",
       "      <td>50.0</td>\n",
       "      <td>65.0</td>\n",
       "      <td>NaN</td>\n",
       "      <td>105.0</td>\n",
       "      <td>107.0</td>\n",
       "      <td>86.0</td>\n",
       "      <td>520.0</td>\n",
       "      <td>86.669998</td>\n",
       "    </tr>\n",
       "    <tr>\n",
       "      <th>623</th>\n",
       "      <td>Brutapode</td>\n",
       "      <td>60.0</td>\n",
       "      <td>100.0</td>\n",
       "      <td>NaN</td>\n",
       "      <td>55.0</td>\n",
       "      <td>69.0</td>\n",
       "      <td>112.0</td>\n",
       "      <td>485.0</td>\n",
       "      <td>80.830002</td>\n",
       "    </tr>\n",
       "    <tr>\n",
       "      <th>624</th>\n",
       "      <td>Doudouvet</td>\n",
       "      <td>40.0</td>\n",
       "      <td>27.0</td>\n",
       "      <td>NaN</td>\n",
       "      <td>37.0</td>\n",
       "      <td>50.0</td>\n",
       "      <td>66.0</td>\n",
       "      <td>280.0</td>\n",
       "      <td>46.669998</td>\n",
       "    </tr>\n",
       "    <tr>\n",
       "      <th>625</th>\n",
       "      <td>Farfaduvet</td>\n",
       "      <td>60.0</td>\n",
       "      <td>67.0</td>\n",
       "      <td>NaN</td>\n",
       "      <td>77.0</td>\n",
       "      <td>75.0</td>\n",
       "      <td>116.0</td>\n",
       "      <td>480.0</td>\n",
       "      <td>80.000000</td>\n",
       "    </tr>\n",
       "  </tbody>\n",
       "</table>\n",
       "</div>"
      ],
      "text/plain": [
       "                          Nom     PV  Attaque  Défense  Att. Spé.  Déf. Spé.  \\\n",
       "9                    Carapuce   44.0     48.0      NaN       50.0       64.0   \n",
       "67            Miaouss d'Alola   40.0     35.0      NaN       50.0       40.0   \n",
       "180                    Mewtwo  106.0    110.0      NaN      154.0       90.0   \n",
       "292                    Jungko   70.0     85.0      NaN      105.0       85.0   \n",
       "550  Motisma\\n(Forme Chaleur)   50.0     65.0      NaN      105.0      107.0   \n",
       "623                 Brutapode   60.0    100.0      NaN       55.0       69.0   \n",
       "624                 Doudouvet   40.0     27.0      NaN       37.0       50.0   \n",
       "625                Farfaduvet   60.0     67.0      NaN       77.0       75.0   \n",
       "\n",
       "     Vitesse  Unnamed: 7  Unnamed: 8  \n",
       "9       43.0       314.0   52.330002  \n",
       "67      90.0       290.0   48.330002  \n",
       "180    130.0       680.0  113.330002  \n",
       "292    120.0       530.0   88.330002  \n",
       "550     86.0       520.0   86.669998  \n",
       "623    112.0       485.0   80.830002  \n",
       "624     66.0       280.0   46.669998  \n",
       "625    116.0       480.0   80.000000  "
      ]
     },
     "execution_count": 31,
     "metadata": {},
     "output_type": "execute_result"
    }
   ],
   "source": [
    "df2[df2[\"Défense\"].isnull()]"
   ]
  },
  {
   "cell_type": "code",
   "execution_count": 32,
   "metadata": {},
   "outputs": [],
   "source": [
    "for index, row in df2.iterrows():\n",
    "    val_defense = row['Défense']\n",
    "    if math.isnan(val_defense):\n",
    "        df2.loc[index,'Défense'] = ((row['Unnamed: 7']) - ((row['PV'])+(row['Attaque'])+(row['Att. Spé.'])+(row['Déf. Spé.'])+(row['Vitesse'])))"
   ]
  },
  {
   "cell_type": "code",
   "execution_count": 33,
   "metadata": {},
   "outputs": [
    {
     "data": {
      "text/html": [
       "<div>\n",
       "<style scoped>\n",
       "    .dataframe tbody tr th:only-of-type {\n",
       "        vertical-align: middle;\n",
       "    }\n",
       "\n",
       "    .dataframe tbody tr th {\n",
       "        vertical-align: top;\n",
       "    }\n",
       "\n",
       "    .dataframe thead th {\n",
       "        text-align: right;\n",
       "    }\n",
       "</style>\n",
       "<table border=\"1\" class=\"dataframe\">\n",
       "  <thead>\n",
       "    <tr style=\"text-align: right;\">\n",
       "      <th></th>\n",
       "      <th>Nom</th>\n",
       "      <th>PV</th>\n",
       "      <th>Attaque</th>\n",
       "      <th>Défense</th>\n",
       "      <th>Att. Spé.</th>\n",
       "      <th>Déf. Spé.</th>\n",
       "      <th>Vitesse</th>\n",
       "      <th>Unnamed: 7</th>\n",
       "      <th>Unnamed: 8</th>\n",
       "    </tr>\n",
       "  </thead>\n",
       "  <tbody>\n",
       "  </tbody>\n",
       "</table>\n",
       "</div>"
      ],
      "text/plain": [
       "Empty DataFrame\n",
       "Columns: [Nom, PV, Attaque, Défense, Att. Spé., Déf. Spé., Vitesse, Unnamed: 7, Unnamed: 8]\n",
       "Index: []"
      ]
     },
     "execution_count": 33,
     "metadata": {},
     "output_type": "execute_result"
    }
   ],
   "source": [
    "df2[df2[\"Défense\"].isnull()] # il n'y a plus de valeurs nulles."
   ]
  },
  {
   "cell_type": "markdown",
   "metadata": {},
   "source": [
    "#### Colonne Att. Spé."
   ]
  },
  {
   "cell_type": "code",
   "execution_count": 34,
   "metadata": {},
   "outputs": [],
   "source": [
    "df2.rename(columns={\"Att. Spé.\":\"att_spe\"}, inplace=True) # à renommer au début la prochaine fois"
   ]
  },
  {
   "cell_type": "code",
   "execution_count": 35,
   "metadata": {},
   "outputs": [],
   "source": [
    "df2.rename(columns={\"Déf. Spé.\":\"def_spe\"}, inplace=True) # à renommer au début la prochaine fois"
   ]
  },
  {
   "cell_type": "code",
   "execution_count": 38,
   "metadata": {},
   "outputs": [],
   "source": [
    "for index, row in df2.iterrows():\n",
    "    val_att_spe = row['att_spe']\n",
    "    if math.isnan(val_att_spe):\n",
    "        df2.loc[index,'att_spe'] = ((row['Unnamed: 7']) - ((row['PV'])+(row['Attaque'])+(row['Défense'])+(row['def_spe'])+(row['Vitesse'])))"
   ]
  },
  {
   "cell_type": "code",
   "execution_count": 39,
   "metadata": {},
   "outputs": [
    {
     "data": {
      "text/html": [
       "<div>\n",
       "<style scoped>\n",
       "    .dataframe tbody tr th:only-of-type {\n",
       "        vertical-align: middle;\n",
       "    }\n",
       "\n",
       "    .dataframe tbody tr th {\n",
       "        vertical-align: top;\n",
       "    }\n",
       "\n",
       "    .dataframe thead th {\n",
       "        text-align: right;\n",
       "    }\n",
       "</style>\n",
       "<table border=\"1\" class=\"dataframe\">\n",
       "  <thead>\n",
       "    <tr style=\"text-align: right;\">\n",
       "      <th></th>\n",
       "      <th>Nom</th>\n",
       "      <th>PV</th>\n",
       "      <th>Attaque</th>\n",
       "      <th>Défense</th>\n",
       "      <th>att_spe</th>\n",
       "      <th>def_spe</th>\n",
       "      <th>Vitesse</th>\n",
       "      <th>Unnamed: 7</th>\n",
       "      <th>Unnamed: 8</th>\n",
       "    </tr>\n",
       "  </thead>\n",
       "  <tbody>\n",
       "  </tbody>\n",
       "</table>\n",
       "</div>"
      ],
      "text/plain": [
       "Empty DataFrame\n",
       "Columns: [Nom, PV, Attaque, Défense, att_spe, def_spe, Vitesse, Unnamed: 7, Unnamed: 8]\n",
       "Index: []"
      ]
     },
     "execution_count": 39,
     "metadata": {},
     "output_type": "execute_result"
    }
   ],
   "source": [
    "df2[df2[\"att_spe\"].isnull()]"
   ]
  },
  {
   "cell_type": "code",
   "execution_count": 40,
   "metadata": {},
   "outputs": [
    {
     "data": {
      "text/html": [
       "<div>\n",
       "<style scoped>\n",
       "    .dataframe tbody tr th:only-of-type {\n",
       "        vertical-align: middle;\n",
       "    }\n",
       "\n",
       "    .dataframe tbody tr th {\n",
       "        vertical-align: top;\n",
       "    }\n",
       "\n",
       "    .dataframe thead th {\n",
       "        text-align: right;\n",
       "    }\n",
       "</style>\n",
       "<table border=\"1\" class=\"dataframe\">\n",
       "  <thead>\n",
       "    <tr style=\"text-align: right;\">\n",
       "      <th></th>\n",
       "      <th>Nom</th>\n",
       "      <th>PV</th>\n",
       "      <th>Attaque</th>\n",
       "      <th>Défense</th>\n",
       "      <th>att_spe</th>\n",
       "      <th>def_spe</th>\n",
       "      <th>Vitesse</th>\n",
       "      <th>Unnamed: 7</th>\n",
       "      <th>Unnamed: 8</th>\n",
       "    </tr>\n",
       "  </thead>\n",
       "  <tbody>\n",
       "    <tr>\n",
       "      <th>0</th>\n",
       "      <td>Bulbizarre</td>\n",
       "      <td>45.0</td>\n",
       "      <td>49.0</td>\n",
       "      <td>49.0</td>\n",
       "      <td>65.0</td>\n",
       "      <td>65.0</td>\n",
       "      <td>45.0</td>\n",
       "      <td>318.0</td>\n",
       "      <td>53.000000</td>\n",
       "    </tr>\n",
       "    <tr>\n",
       "      <th>1</th>\n",
       "      <td>Herbizarre</td>\n",
       "      <td>60.0</td>\n",
       "      <td>62.0</td>\n",
       "      <td>63.0</td>\n",
       "      <td>80.0</td>\n",
       "      <td>80.0</td>\n",
       "      <td>60.0</td>\n",
       "      <td>405.0</td>\n",
       "      <td>67.500000</td>\n",
       "    </tr>\n",
       "    <tr>\n",
       "      <th>2</th>\n",
       "      <td>Florizarre</td>\n",
       "      <td>80.0</td>\n",
       "      <td>82.0</td>\n",
       "      <td>83.0</td>\n",
       "      <td>100.0</td>\n",
       "      <td>100.0</td>\n",
       "      <td>80.0</td>\n",
       "      <td>525.0</td>\n",
       "      <td>87.500000</td>\n",
       "    </tr>\n",
       "    <tr>\n",
       "      <th>3</th>\n",
       "      <td>Méga-Florizarre</td>\n",
       "      <td>80.0</td>\n",
       "      <td>100.0</td>\n",
       "      <td>123.0</td>\n",
       "      <td>122.0</td>\n",
       "      <td>120.0</td>\n",
       "      <td>80.0</td>\n",
       "      <td>625.0</td>\n",
       "      <td>104.169998</td>\n",
       "    </tr>\n",
       "    <tr>\n",
       "      <th>4</th>\n",
       "      <td>Salamèche</td>\n",
       "      <td>39.0</td>\n",
       "      <td>52.0</td>\n",
       "      <td>43.0</td>\n",
       "      <td>60.0</td>\n",
       "      <td>50.0</td>\n",
       "      <td>65.0</td>\n",
       "      <td>309.0</td>\n",
       "      <td>51.500000</td>\n",
       "    </tr>\n",
       "  </tbody>\n",
       "</table>\n",
       "</div>"
      ],
      "text/plain": [
       "               Nom    PV  Attaque  Défense  att_spe  def_spe  Vitesse  \\\n",
       "0       Bulbizarre  45.0     49.0     49.0     65.0     65.0     45.0   \n",
       "1       Herbizarre  60.0     62.0     63.0     80.0     80.0     60.0   \n",
       "2       Florizarre  80.0     82.0     83.0    100.0    100.0     80.0   \n",
       "3  Méga-Florizarre  80.0    100.0    123.0    122.0    120.0     80.0   \n",
       "4        Salamèche  39.0     52.0     43.0     60.0     50.0     65.0   \n",
       "\n",
       "   Unnamed: 7  Unnamed: 8  \n",
       "0       318.0   53.000000  \n",
       "1       405.0   67.500000  \n",
       "2       525.0   87.500000  \n",
       "3       625.0  104.169998  \n",
       "4       309.0   51.500000  "
      ]
     },
     "execution_count": 40,
     "metadata": {},
     "output_type": "execute_result"
    }
   ],
   "source": [
    "df2.head()"
   ]
  },
  {
   "cell_type": "code",
   "execution_count": 41,
   "metadata": {},
   "outputs": [],
   "source": [
    "for index, row in df2.iterrows():\n",
    "    val_def_spe = row['def_spe']\n",
    "    if math.isnan(val_def_spe):\n",
    "        df2.loc[index,'def_spe'] = ((row['Unnamed: 7']) - ((row['PV'])+(row['Attaque'])+(row['Défense'])+(row['att_spe'])+(row['Vitesse'])))"
   ]
  },
  {
   "cell_type": "code",
   "execution_count": 42,
   "metadata": {},
   "outputs": [
    {
     "data": {
      "text/html": [
       "<div>\n",
       "<style scoped>\n",
       "    .dataframe tbody tr th:only-of-type {\n",
       "        vertical-align: middle;\n",
       "    }\n",
       "\n",
       "    .dataframe tbody tr th {\n",
       "        vertical-align: top;\n",
       "    }\n",
       "\n",
       "    .dataframe thead th {\n",
       "        text-align: right;\n",
       "    }\n",
       "</style>\n",
       "<table border=\"1\" class=\"dataframe\">\n",
       "  <thead>\n",
       "    <tr style=\"text-align: right;\">\n",
       "      <th></th>\n",
       "      <th>Nom</th>\n",
       "      <th>PV</th>\n",
       "      <th>Attaque</th>\n",
       "      <th>Défense</th>\n",
       "      <th>att_spe</th>\n",
       "      <th>def_spe</th>\n",
       "      <th>Vitesse</th>\n",
       "      <th>Unnamed: 7</th>\n",
       "      <th>Unnamed: 8</th>\n",
       "    </tr>\n",
       "  </thead>\n",
       "  <tbody>\n",
       "  </tbody>\n",
       "</table>\n",
       "</div>"
      ],
      "text/plain": [
       "Empty DataFrame\n",
       "Columns: [Nom, PV, Attaque, Défense, att_spe, def_spe, Vitesse, Unnamed: 7, Unnamed: 8]\n",
       "Index: []"
      ]
     },
     "execution_count": 42,
     "metadata": {},
     "output_type": "execute_result"
    }
   ],
   "source": [
    "df2[df2[\"def_spe\"].isnull()]"
   ]
  },
  {
   "cell_type": "markdown",
   "metadata": {},
   "source": [
    "#### Colonne Vitesse"
   ]
  },
  {
   "cell_type": "code",
   "execution_count": 43,
   "metadata": {},
   "outputs": [
    {
     "data": {
      "text/html": [
       "<div>\n",
       "<style scoped>\n",
       "    .dataframe tbody tr th:only-of-type {\n",
       "        vertical-align: middle;\n",
       "    }\n",
       "\n",
       "    .dataframe tbody tr th {\n",
       "        vertical-align: top;\n",
       "    }\n",
       "\n",
       "    .dataframe thead th {\n",
       "        text-align: right;\n",
       "    }\n",
       "</style>\n",
       "<table border=\"1\" class=\"dataframe\">\n",
       "  <thead>\n",
       "    <tr style=\"text-align: right;\">\n",
       "      <th></th>\n",
       "      <th>Nom</th>\n",
       "      <th>PV</th>\n",
       "      <th>Attaque</th>\n",
       "      <th>Défense</th>\n",
       "      <th>att_spe</th>\n",
       "      <th>def_spe</th>\n",
       "      <th>Vitesse</th>\n",
       "      <th>Unnamed: 7</th>\n",
       "      <th>Unnamed: 8</th>\n",
       "    </tr>\n",
       "  </thead>\n",
       "  <tbody>\n",
       "    <tr>\n",
       "      <th>28</th>\n",
       "      <td>Piafabec</td>\n",
       "      <td>40.0</td>\n",
       "      <td>60.0</td>\n",
       "      <td>30.0</td>\n",
       "      <td>31.0</td>\n",
       "      <td>31.0</td>\n",
       "      <td>NaN</td>\n",
       "      <td>262.0</td>\n",
       "      <td>43.669998</td>\n",
       "    </tr>\n",
       "    <tr>\n",
       "      <th>263</th>\n",
       "      <td>Airmure</td>\n",
       "      <td>65.0</td>\n",
       "      <td>80.0</td>\n",
       "      <td>140.0</td>\n",
       "      <td>40.0</td>\n",
       "      <td>70.0</td>\n",
       "      <td>NaN</td>\n",
       "      <td>465.0</td>\n",
       "      <td>77.500000</td>\n",
       "    </tr>\n",
       "  </tbody>\n",
       "</table>\n",
       "</div>"
      ],
      "text/plain": [
       "          Nom    PV  Attaque  Défense  att_spe  def_spe  Vitesse  Unnamed: 7  \\\n",
       "28   Piafabec  40.0     60.0     30.0     31.0     31.0      NaN       262.0   \n",
       "263   Airmure  65.0     80.0    140.0     40.0     70.0      NaN       465.0   \n",
       "\n",
       "     Unnamed: 8  \n",
       "28    43.669998  \n",
       "263   77.500000  "
      ]
     },
     "execution_count": 43,
     "metadata": {},
     "output_type": "execute_result"
    }
   ],
   "source": [
    "df2[df2[\"Vitesse\"].isnull()]"
   ]
  },
  {
   "cell_type": "code",
   "execution_count": 44,
   "metadata": {},
   "outputs": [],
   "source": [
    "for index, row in df2.iterrows():\n",
    "    val_vitesse = row['Vitesse']\n",
    "    if math.isnan(val_vitesse):\n",
    "        df2.loc[index,'Vitesse'] = ((row['Unnamed: 7']) - ((row['PV'])+(row['Attaque'])+(row['Défense'])+(row['att_spe'])+(row['def_spe'])))"
   ]
  },
  {
   "cell_type": "code",
   "execution_count": 45,
   "metadata": {},
   "outputs": [
    {
     "data": {
      "text/html": [
       "<div>\n",
       "<style scoped>\n",
       "    .dataframe tbody tr th:only-of-type {\n",
       "        vertical-align: middle;\n",
       "    }\n",
       "\n",
       "    .dataframe tbody tr th {\n",
       "        vertical-align: top;\n",
       "    }\n",
       "\n",
       "    .dataframe thead th {\n",
       "        text-align: right;\n",
       "    }\n",
       "</style>\n",
       "<table border=\"1\" class=\"dataframe\">\n",
       "  <thead>\n",
       "    <tr style=\"text-align: right;\">\n",
       "      <th></th>\n",
       "      <th>Nom</th>\n",
       "      <th>PV</th>\n",
       "      <th>Attaque</th>\n",
       "      <th>Défense</th>\n",
       "      <th>att_spe</th>\n",
       "      <th>def_spe</th>\n",
       "      <th>Vitesse</th>\n",
       "      <th>Unnamed: 7</th>\n",
       "      <th>Unnamed: 8</th>\n",
       "    </tr>\n",
       "  </thead>\n",
       "  <tbody>\n",
       "  </tbody>\n",
       "</table>\n",
       "</div>"
      ],
      "text/plain": [
       "Empty DataFrame\n",
       "Columns: [Nom, PV, Attaque, Défense, att_spe, def_spe, Vitesse, Unnamed: 7, Unnamed: 8]\n",
       "Index: []"
      ]
     },
     "execution_count": 45,
     "metadata": {},
     "output_type": "execute_result"
    }
   ],
   "source": [
    "df2[df2[\"Vitesse\"].isnull()]"
   ]
  },
  {
   "cell_type": "markdown",
   "metadata": {},
   "source": [
    "### 2. Crée un nouveau dataframe qui ne contiendra que les colonnes : PV, Attaque, Défense , Att. Spé., Déf. Spé., Vitesse."
   ]
  },
  {
   "cell_type": "code",
   "execution_count": 46,
   "metadata": {},
   "outputs": [
    {
     "data": {
      "text/html": [
       "<div>\n",
       "<style scoped>\n",
       "    .dataframe tbody tr th:only-of-type {\n",
       "        vertical-align: middle;\n",
       "    }\n",
       "\n",
       "    .dataframe tbody tr th {\n",
       "        vertical-align: top;\n",
       "    }\n",
       "\n",
       "    .dataframe thead th {\n",
       "        text-align: right;\n",
       "    }\n",
       "</style>\n",
       "<table border=\"1\" class=\"dataframe\">\n",
       "  <thead>\n",
       "    <tr style=\"text-align: right;\">\n",
       "      <th></th>\n",
       "      <th>Nom</th>\n",
       "      <th>PV</th>\n",
       "      <th>Attaque</th>\n",
       "      <th>Défense</th>\n",
       "      <th>att_spe</th>\n",
       "      <th>def_spe</th>\n",
       "      <th>Vitesse</th>\n",
       "    </tr>\n",
       "  </thead>\n",
       "  <tbody>\n",
       "    <tr>\n",
       "      <th>0</th>\n",
       "      <td>Bulbizarre</td>\n",
       "      <td>45.0</td>\n",
       "      <td>49.0</td>\n",
       "      <td>49.0</td>\n",
       "      <td>65.0</td>\n",
       "      <td>65.0</td>\n",
       "      <td>45.0</td>\n",
       "    </tr>\n",
       "    <tr>\n",
       "      <th>1</th>\n",
       "      <td>Herbizarre</td>\n",
       "      <td>60.0</td>\n",
       "      <td>62.0</td>\n",
       "      <td>63.0</td>\n",
       "      <td>80.0</td>\n",
       "      <td>80.0</td>\n",
       "      <td>60.0</td>\n",
       "    </tr>\n",
       "    <tr>\n",
       "      <th>2</th>\n",
       "      <td>Florizarre</td>\n",
       "      <td>80.0</td>\n",
       "      <td>82.0</td>\n",
       "      <td>83.0</td>\n",
       "      <td>100.0</td>\n",
       "      <td>100.0</td>\n",
       "      <td>80.0</td>\n",
       "    </tr>\n",
       "    <tr>\n",
       "      <th>3</th>\n",
       "      <td>Méga-Florizarre</td>\n",
       "      <td>80.0</td>\n",
       "      <td>100.0</td>\n",
       "      <td>123.0</td>\n",
       "      <td>122.0</td>\n",
       "      <td>120.0</td>\n",
       "      <td>80.0</td>\n",
       "    </tr>\n",
       "    <tr>\n",
       "      <th>4</th>\n",
       "      <td>Salamèche</td>\n",
       "      <td>39.0</td>\n",
       "      <td>52.0</td>\n",
       "      <td>43.0</td>\n",
       "      <td>60.0</td>\n",
       "      <td>50.0</td>\n",
       "      <td>65.0</td>\n",
       "    </tr>\n",
       "  </tbody>\n",
       "</table>\n",
       "</div>"
      ],
      "text/plain": [
       "               Nom    PV  Attaque  Défense  att_spe  def_spe  Vitesse\n",
       "0       Bulbizarre  45.0     49.0     49.0     65.0     65.0     45.0\n",
       "1       Herbizarre  60.0     62.0     63.0     80.0     80.0     60.0\n",
       "2       Florizarre  80.0     82.0     83.0    100.0    100.0     80.0\n",
       "3  Méga-Florizarre  80.0    100.0    123.0    122.0    120.0     80.0\n",
       "4        Salamèche  39.0     52.0     43.0     60.0     50.0     65.0"
      ]
     },
     "execution_count": 46,
     "metadata": {},
     "output_type": "execute_result"
    }
   ],
   "source": [
    "df3 = df2.drop(columns=[\"Unnamed: 7\", \"Unnamed: 8\"], axis=1)\n",
    "df3.head()"
   ]
  },
  {
   "cell_type": "markdown",
   "metadata": {},
   "source": [
    "### 3. Stocke les noms des colonnes dans un array que tu nommeras columnsNames et les valeurs des colonnes dans un autre array que tu nommeras X.\n"
   ]
  },
  {
   "cell_type": "code",
   "execution_count": 47,
   "metadata": {},
   "outputs": [
    {
     "data": {
      "text/plain": [
       "Index(['Nom', 'PV', 'Attaque', 'Défense', 'att_spe', 'def_spe', 'Vitesse'], dtype='object')"
      ]
     },
     "execution_count": 47,
     "metadata": {},
     "output_type": "execute_result"
    }
   ],
   "source": [
    "columnsNames = df3.columns\n",
    "columnsNames"
   ]
  },
  {
   "cell_type": "code",
   "execution_count": 71,
   "metadata": {},
   "outputs": [],
   "source": [
    "X = df3.values\n",
    "X"
   ]
  },
  {
   "cell_type": "markdown",
   "metadata": {},
   "source": [
    "### 4. Explique ce que font les 3 lignes de code ci-dessous. Pourquoi nous n'en avons pas besoin dans notre cas ?"
   ]
  },
  {
   "cell_type": "code",
   "execution_count": 50,
   "metadata": {},
   "outputs": [],
   "source": [
    "from sklearn import preprocessing \n",
    "std_scale = preprocessing.StandardScaler().fit(X) \n",
    "X_scaled = std_scale.transform(X)\n",
    "# importe un package de fonctions utilisées afin d'adapter les valeurs et produire une distribution normale.\n",
    "# Dans notre cas, comme les valeurs du dataset sont dans des proportions équivalentes, pas d'utilité."
   ]
  },
  {
   "cell_type": "markdown",
   "metadata": {},
   "source": [
    "### 5. Quelles sont les deux méthodes de l'objet pca qui sont regroupées dans la méthode fit_transform() ?"
   ]
  },
  {
   "cell_type": "raw",
   "metadata": {},
   "source": [
    "fit : \n",
    ">> Calcul de la moyenne et de l'écart-type pour la future mise à l'échelle \n",
    "transform : \n",
    ">> Intégration des données via la mise à l'échelle "
   ]
  },
  {
   "cell_type": "markdown",
   "metadata": {},
   "source": [
    "### 6. Instancie un objet pca dans le cas ou on ne sait pas encore le nombre de composante principale que l'on souhaite calculer."
   ]
  },
  {
   "cell_type": "code",
   "execution_count": 81,
   "metadata": {},
   "outputs": [
    {
     "data": {
      "text/plain": [
       "PCA(copy=True, iterated_power='auto', n_components=None, random_state=None,\n",
       "  svd_solver='auto', tol=0.0, whiten=False)"
      ]
     },
     "execution_count": 81,
     "metadata": {},
     "output_type": "execute_result"
    }
   ],
   "source": [
    "from sklearn import decomposition\n",
    "pca = decomposition.PCA(n_components=None)\n",
    "pca"
   ]
  },
  {
   "cell_type": "markdown",
   "metadata": {},
   "source": [
    "### 7. Calcule les composantes principales de X et effectue une projection des individus avec pca.fit_transform(X).\n"
   ]
  },
  {
   "cell_type": "code",
   "execution_count": 68,
   "metadata": {
    "scrolled": true
   },
   "outputs": [
    {
     "data": {
      "text/html": [
       "<div>\n",
       "<style scoped>\n",
       "    .dataframe tbody tr th:only-of-type {\n",
       "        vertical-align: middle;\n",
       "    }\n",
       "\n",
       "    .dataframe tbody tr th {\n",
       "        vertical-align: top;\n",
       "    }\n",
       "\n",
       "    .dataframe thead th {\n",
       "        text-align: right;\n",
       "    }\n",
       "</style>\n",
       "<table border=\"1\" class=\"dataframe\">\n",
       "  <thead>\n",
       "    <tr style=\"text-align: right;\">\n",
       "      <th></th>\n",
       "      <th>PV</th>\n",
       "      <th>Attaque</th>\n",
       "      <th>Défense</th>\n",
       "      <th>att_spe</th>\n",
       "      <th>def_spe</th>\n",
       "      <th>Vitesse</th>\n",
       "    </tr>\n",
       "  </thead>\n",
       "  <tbody>\n",
       "    <tr>\n",
       "      <th>0</th>\n",
       "      <td>45.0</td>\n",
       "      <td>49.0</td>\n",
       "      <td>49.0</td>\n",
       "      <td>65.0</td>\n",
       "      <td>65.0</td>\n",
       "      <td>45.0</td>\n",
       "    </tr>\n",
       "    <tr>\n",
       "      <th>1</th>\n",
       "      <td>60.0</td>\n",
       "      <td>62.0</td>\n",
       "      <td>63.0</td>\n",
       "      <td>80.0</td>\n",
       "      <td>80.0</td>\n",
       "      <td>60.0</td>\n",
       "    </tr>\n",
       "    <tr>\n",
       "      <th>2</th>\n",
       "      <td>80.0</td>\n",
       "      <td>82.0</td>\n",
       "      <td>83.0</td>\n",
       "      <td>100.0</td>\n",
       "      <td>100.0</td>\n",
       "      <td>80.0</td>\n",
       "    </tr>\n",
       "    <tr>\n",
       "      <th>3</th>\n",
       "      <td>80.0</td>\n",
       "      <td>100.0</td>\n",
       "      <td>123.0</td>\n",
       "      <td>122.0</td>\n",
       "      <td>120.0</td>\n",
       "      <td>80.0</td>\n",
       "    </tr>\n",
       "    <tr>\n",
       "      <th>4</th>\n",
       "      <td>39.0</td>\n",
       "      <td>52.0</td>\n",
       "      <td>43.0</td>\n",
       "      <td>60.0</td>\n",
       "      <td>50.0</td>\n",
       "      <td>65.0</td>\n",
       "    </tr>\n",
       "  </tbody>\n",
       "</table>\n",
       "</div>"
      ],
      "text/plain": [
       "     PV  Attaque  Défense  att_spe  def_spe  Vitesse\n",
       "0  45.0     49.0     49.0     65.0     65.0     45.0\n",
       "1  60.0     62.0     63.0     80.0     80.0     60.0\n",
       "2  80.0     82.0     83.0    100.0    100.0     80.0\n",
       "3  80.0    100.0    123.0    122.0    120.0     80.0\n",
       "4  39.0     52.0     43.0     60.0     50.0     65.0"
      ]
     },
     "execution_count": 68,
     "metadata": {},
     "output_type": "execute_result"
    }
   ],
   "source": [
    "df4 = df3.drop(columns=[\"Nom\"], axis=1)\n",
    "df4.head()"
   ]
  },
  {
   "cell_type": "code",
   "execution_count": 73,
   "metadata": {},
   "outputs": [],
   "source": [
    "X = df4.values"
   ]
  },
  {
   "cell_type": "code",
   "execution_count": 84,
   "metadata": {},
   "outputs": [
    {
     "data": {
      "text/plain": [
       "PCA(copy=True, iterated_power='auto', n_components=None, random_state=None,\n",
       "  svd_solver='auto', tol=0.0, whiten=False)"
      ]
     },
     "execution_count": 84,
     "metadata": {},
     "output_type": "execute_result"
    }
   ],
   "source": [
    "pca.fit(X)"
   ]
  },
  {
   "cell_type": "code",
   "execution_count": 85,
   "metadata": {},
   "outputs": [
    {
     "name": "stdout",
     "output_type": "stream",
     "text": [
      "[0.45427375 0.19362961 0.13723484 0.09897258 0.07281017 0.04307906]\n"
     ]
    }
   ],
   "source": [
    "print(pca.explained_variance_ratio_)\n",
    "# la première composante explique 45% de la variance, et la deuxième un peu moins de 20."
   ]
  },
  {
   "cell_type": "code",
   "execution_count": 86,
   "metadata": {},
   "outputs": [
    {
     "data": {
      "text/plain": [
       "array([[-47.24779855,  -5.21056649,  19.86891604,  -0.43095945,\n",
       "        -12.3890417 ,  -9.70284185],\n",
       "       [-12.56335654,  -5.96610564,  21.63058429,   0.24460274,\n",
       "         -5.42592379,  -6.64118004],\n",
       "       [ 35.51012914,  -5.86778265,  22.0968405 ,   0.68482768,\n",
       "          3.25447945,  -3.01217004],\n",
       "       ...,\n",
       "       [ 62.72871249, -50.56603514, -20.2781257 , -15.8559934 ,\n",
       "         22.95248435,  11.30449945],\n",
       "       [-53.17794829,  11.83890927,  -9.62003634,   1.35806217,\n",
       "        -26.24240062,   5.89953733],\n",
       "       [ 67.50240706,  70.85945841, -43.13195786,  45.21267506,\n",
       "        -11.88255577,  23.62932899]])"
      ]
     },
     "execution_count": 86,
     "metadata": {},
     "output_type": "execute_result"
    }
   ],
   "source": [
    "pca.fit_transform(X)"
   ]
  },
  {
   "cell_type": "markdown",
   "metadata": {},
   "source": [
    "### 8. Combien de composantes principales expliquent au moins 70% de la variance ?\n"
   ]
  },
  {
   "cell_type": "code",
   "execution_count": 91,
   "metadata": {},
   "outputs": [
    {
     "name": "stdout",
     "output_type": "stream",
     "text": [
      "[0.45427375 0.64790335 0.78513819 0.88411077 0.95692094 1.        ]\n"
     ]
    }
   ],
   "source": [
    "# 3 composantes principales expliquent au moins 70% de la variance\n",
    "print(pca.explained_variance_ratio_.cumsum())"
   ]
  },
  {
   "cell_type": "markdown",
   "metadata": {},
   "source": [
    "### 9. Affiche les coordonnées des composantes principales dans l'espace initial de la question 8\n"
   ]
  },
  {
   "cell_type": "code",
   "execution_count": 105,
   "metadata": {},
   "outputs": [],
   "source": [
    "pcs = pca.components_"
   ]
  },
  {
   "cell_type": "code",
   "execution_count": 108,
   "metadata": {},
   "outputs": [
    {
     "data": {
      "text/plain": [
       "array([[ 0.31289536,  0.49456407,  0.38154411,  0.5117751 ,  0.39006174,\n",
       "         0.3128339 ],\n",
       "       [ 0.04962375,  0.07652411,  0.67623316, -0.38138802,  0.18078895,\n",
       "        -0.5968658 ],\n",
       "       [-0.06454501, -0.72044672,  0.02891735,  0.40329761,  0.53631452,\n",
       "        -0.16022493],\n",
       "       [ 0.80187543,  0.00852535, -0.36244417,  0.12021277, -0.09706504,\n",
       "        -0.44909309],\n",
       "       [ 0.41497097, -0.21893765, -0.01494017, -0.62295948,  0.37479621,\n",
       "         0.50109029],\n",
       "       [ 0.28330691, -0.42720087,  0.51449742,  0.16568295, -0.6145243 ,\n",
       "         0.25968838]])"
      ]
     },
     "execution_count": 108,
     "metadata": {},
     "output_type": "execute_result"
    }
   ],
   "source": [
    "pcs"
   ]
  },
  {
   "cell_type": "code",
   "execution_count": 104,
   "metadata": {},
   "outputs": [
    {
     "data": {
      "image/png": "[encoded data removed]",
      "text/plain": [
       "<Figure size 432x432 with 1 Axes>"
      ]
     },
     "metadata": {
      "needs_background": "light"
     },
     "output_type": "display_data"
    }
   ],
   "source": [
    "fig = plt.figure(figsize=(6,6))\n",
    "\n",
    "for i, (x,y) in enumerate(zip(pcs[0, :], pcs[1, :])):\n",
    "    plt.plot([0, x], [0, y], color=\"y\")\n",
    "    plt.text(x, y, df4.columns[i])\n",
    "    "
   ]
  },
  {
   "cell_type": "markdown",
   "metadata": {},
   "source": [
    "### 10. Crée un dataframe ayant comme noms de colonnes columnsNames et comme valeurs les valeurs de la question 9. Fait un headmap de ce dataframe avec la méthode adéquate de Seaborn. Interprète les résultats."
   ]
  },
  {
   "cell_type": "code",
   "execution_count": 113,
   "metadata": {},
   "outputs": [
    {
     "data": {
      "text/html": [
       "<div>\n",
       "<style scoped>\n",
       "    .dataframe tbody tr th:only-of-type {\n",
       "        vertical-align: middle;\n",
       "    }\n",
       "\n",
       "    .dataframe tbody tr th {\n",
       "        vertical-align: top;\n",
       "    }\n",
       "\n",
       "    .dataframe thead th {\n",
       "        text-align: right;\n",
       "    }\n",
       "</style>\n",
       "<table border=\"1\" class=\"dataframe\">\n",
       "  <thead>\n",
       "    <tr style=\"text-align: right;\">\n",
       "      <th></th>\n",
       "      <th>PV</th>\n",
       "      <th>Attaque</th>\n",
       "      <th>Défense</th>\n",
       "      <th>att_spe</th>\n",
       "      <th>def_spe</th>\n",
       "      <th>Vitesse</th>\n",
       "    </tr>\n",
       "  </thead>\n",
       "  <tbody>\n",
       "    <tr>\n",
       "      <th>0</th>\n",
       "      <td>0.312895</td>\n",
       "      <td>0.494564</td>\n",
       "      <td>0.381544</td>\n",
       "      <td>0.511775</td>\n",
       "      <td>0.390062</td>\n",
       "      <td>0.312834</td>\n",
       "    </tr>\n",
       "    <tr>\n",
       "      <th>1</th>\n",
       "      <td>0.049624</td>\n",
       "      <td>0.076524</td>\n",
       "      <td>0.676233</td>\n",
       "      <td>-0.381388</td>\n",
       "      <td>0.180789</td>\n",
       "      <td>-0.596866</td>\n",
       "    </tr>\n",
       "    <tr>\n",
       "      <th>2</th>\n",
       "      <td>-0.064545</td>\n",
       "      <td>-0.720447</td>\n",
       "      <td>0.028917</td>\n",
       "      <td>0.403298</td>\n",
       "      <td>0.536315</td>\n",
       "      <td>-0.160225</td>\n",
       "    </tr>\n",
       "    <tr>\n",
       "      <th>3</th>\n",
       "      <td>0.801875</td>\n",
       "      <td>0.008525</td>\n",
       "      <td>-0.362444</td>\n",
       "      <td>0.120213</td>\n",
       "      <td>-0.097065</td>\n",
       "      <td>-0.449093</td>\n",
       "    </tr>\n",
       "    <tr>\n",
       "      <th>4</th>\n",
       "      <td>0.414971</td>\n",
       "      <td>-0.218938</td>\n",
       "      <td>-0.014940</td>\n",
       "      <td>-0.622959</td>\n",
       "      <td>0.374796</td>\n",
       "      <td>0.501090</td>\n",
       "    </tr>\n",
       "  </tbody>\n",
       "</table>\n",
       "</div>"
      ],
      "text/plain": [
       "         PV   Attaque   Défense   att_spe   def_spe   Vitesse\n",
       "0  0.312895  0.494564  0.381544  0.511775  0.390062  0.312834\n",
       "1  0.049624  0.076524  0.676233 -0.381388  0.180789 -0.596866\n",
       "2 -0.064545 -0.720447  0.028917  0.403298  0.536315 -0.160225\n",
       "3  0.801875  0.008525 -0.362444  0.120213 -0.097065 -0.449093\n",
       "4  0.414971 -0.218938 -0.014940 -0.622959  0.374796  0.501090"
      ]
     },
     "execution_count": 113,
     "metadata": {},
     "output_type": "execute_result"
    }
   ],
   "source": [
    "dataframe = pd.DataFrame(pcs, columns= df4.columns)\n",
    "dataframe.head()"
   ]
  },
  {
   "cell_type": "code",
   "execution_count": 115,
   "metadata": {},
   "outputs": [
    {
     "data": {
      "text/plain": [
       "<matplotlib.axes._subplots.AxesSubplot at 0x1a23045a20>"
      ]
     },
     "execution_count": 115,
     "metadata": {},
     "output_type": "execute_result"
    },
    {
     "data": {
      "image/png": "[encoded data removed]",
      "text/plain": [
       "<Figure size 432x288 with 2 Axes>"
      ]
     },
     "metadata": {
      "needs_background": "light"
     },
     "output_type": "display_data"
    }
   ],
   "source": [
    "sns.heatmap(dataframe)"
   ]
  }
 ],
 "metadata": {
  "kernelspec": {
   "display_name": "Python 3",
   "language": "python",
   "name": "python3"
  },
  "language_info": {
   "codemirror_mode": {
    "name": "ipython",
    "version": 3
   },
   "file_extension": ".py",
   "mimetype": "text/x-python",
   "name": "python",
   "nbconvert_exporter": "python",
   "pygments_lexer": "ipython3",
   "version": "3.7.1"
  }
 },
 "nbformat": 4,
 "nbformat_minor": 2
}
