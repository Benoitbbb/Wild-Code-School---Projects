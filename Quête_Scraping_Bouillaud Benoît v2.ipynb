{
 "cells": [
  {
   "cell_type": "code",
   "execution_count": 1,
   "metadata": {},
   "outputs": [],
   "source": [
    "import pandas as pd\n",
    "import numpy as np\n",
    "from bs4 import BeautifulSoup\n",
    "import requests"
   ]
  },
  {
   "cell_type": "code",
   "execution_count": 2,
   "metadata": {},
   "outputs": [],
   "source": [
    "# obtenir l'intitulé du poste\n",
    "#job_name = parser.find_all(\"a\", class_=\"job-title\")[0]\n",
    "#print(job_name.text)"
   ]
  },
  {
   "cell_type": "code",
   "execution_count": 3,
   "metadata": {},
   "outputs": [],
   "source": [
    "# obtenir le nom de la société qui recrute\n",
    "#society = parser.find_all(\"div\", class_=\"snapshot-item\")[0].text\n",
    "#print(society)"
   ]
  },
  {
   "cell_type": "code",
   "execution_count": 4,
   "metadata": {},
   "outputs": [],
   "source": [
    "# obtenir le type de contrat\n",
    "#contract = parser.find_all(\"div\", class_=\"snapshot-item\")[0].text\n",
    "#print(contract)"
   ]
  },
  {
   "cell_type": "code",
   "execution_count": 5,
   "metadata": {},
   "outputs": [],
   "source": [
    "# obtenir les compétences demandées\n",
    "#skill_tags = parser.find_all(\"div\", class_=\"tags\")[0]\n",
    "#skill = skill_tags.find_all(\"a\", class_=\"tag\")[0].text\n",
    "#print(skill)"
   ]
  },
  {
   "cell_type": "code",
   "execution_count": 6,
   "metadata": {},
   "outputs": [],
   "source": [
    "#job_containers = parser.find_all(\"a\", class_=\"job-title\")\n",
    "#print(type(job_containers))\n",
    "#print(len(job_containers))"
   ]
  },
  {
   "cell_type": "code",
   "execution_count": 7,
   "metadata": {},
   "outputs": [],
   "source": [
    "#html_jeudi = BeautifulSoup(content, \"html.parser\")\n",
    "#type(html_jeudi)"
   ]
  },
  {
   "cell_type": "code",
   "execution_count": 8,
   "metadata": {},
   "outputs": [
    {
     "data": {
      "text/plain": [
       "'\\n# On reprend notre data job_container pour y extraire l\\'information\\nfor i in range (len(job_containers)):\\n    for container in job_containers:\\n\\n        # obtenir l\\'intitulé du poste\\n        job_name = parser.find_all(\"a\", class_=\"job-title\")[0].text\\n        job_names.append(job_name) # on ajoute chaque élément name de la boucle à la liste names\\n        \\n        # obtenir le nom de la société qui recrute\\n        society = parser.find_all(\"div\", class_=\"snapshot-item\")[0].text\\n        societies.append(society)\\n        \\n        # obtenir le type de contrat\\n        contract = parser.find_all(\"div\", class_=\"snapshot-item\")[1].text\\n        contracts.append(contract)\\n        \\n        # obtenir les compétences demandées\\n        skill_tags = parser.find_all(\"div\", class_=\"tags\")[0]\\n        skill = skill_tags.find_all(\"a\", class_=\"tag\")[0].text\\n        \\n        nb += 1\\n'"
      ]
     },
     "execution_count": 8,
     "metadata": {},
     "output_type": "execute_result"
    }
   ],
   "source": [
    "# on crée des listes vides pour toutes nos informations : \n",
    "#job_names = []\n",
    "#societies = []\n",
    "#contracts = []\n",
    "#skills = []\n",
    "\n",
    "\"\"\"\n",
    "# On reprend notre data job_container pour y extraire l'information\n",
    "for i in range (len(job_containers)):\n",
    "    for container in job_containers:\n",
    "\n",
    "        # obtenir l'intitulé du poste\n",
    "        job_name = parser.find_all(\"a\", class_=\"job-title\")[0].text\n",
    "        job_names.append(job_name) # on ajoute chaque élément name de la boucle à la liste names\n",
    "        \n",
    "        # obtenir le nom de la société qui recrute\n",
    "        society = parser.find_all(\"div\", class_=\"snapshot-item\")[0].text\n",
    "        societies.append(society)\n",
    "        \n",
    "        # obtenir le type de contrat\n",
    "        contract = parser.find_all(\"div\", class_=\"snapshot-item\")[1].text\n",
    "        contracts.append(contract)\n",
    "        \n",
    "        # obtenir les compétences demandées\n",
    "        skill_tags = parser.find_all(\"div\", class_=\"tags\")[0]\n",
    "        skill = skill_tags.find_all(\"a\", class_=\"tag\")[0].text\n",
    "        \n",
    "        nb += 1\n",
    "\"\"\"    "
   ]
  },
  {
   "cell_type": "code",
   "execution_count": 9,
   "metadata": {},
   "outputs": [
    {
     "name": "stdout",
     "output_type": "stream",
     "text": [
      "https://www.lesjeudis.com/recherche?loc=Paris&pg=0&q=data+analyst\n",
      "https://www.lesjeudis.com/recherche?loc=Paris&pg=1&q=data+analyst\n",
      "https://www.lesjeudis.com/recherche?loc=Paris&pg=2&q=data+analyst\n",
      "https://www.lesjeudis.com/recherche?loc=Paris&pg=3&q=data+analyst\n",
      "https://www.lesjeudis.com/recherche?loc=Paris&pg=4&q=data+analyst\n",
      "https://www.lesjeudis.com/recherche?loc=Paris&pg=5&q=data+analyst\n",
      "https://www.lesjeudis.com/recherche?loc=Paris&pg=6&q=data+analyst\n",
      "https://www.lesjeudis.com/recherche?loc=Paris&pg=7&q=data+analyst\n",
      "https://www.lesjeudis.com/recherche?loc=Paris&pg=8&q=data+analyst\n",
      "https://www.lesjeudis.com/recherche?loc=Paris&pg=9&q=data+analyst\n"
     ]
    }
   ],
   "source": [
    "base_url_1 = 'https://www.lesjeudis.com/recherche?loc=Paris&pg='\n",
    "base_url_2 = '&q=data+analyst'\n",
    "\n",
    "postes = []\n",
    "societes = []\n",
    "contrats = []\n",
    "competences = []\n",
    "\n",
    "\n",
    "for num_page in range(10):\n",
    "    url = f'{base_url_1}{num_page}{base_url_2}'\n",
    "    print(url)\n",
    "    resp = requests.get(url)\n",
    "    soup = BeautifulSoup(resp.text, 'html.parser')\n",
    "    \n",
    "    \n",
    "    # obtenir l'intitulé du poste\n",
    "    job_name = soup.find_all(\"div\", attrs={\"class\":\"job-info\"})\n",
    "    \n",
    "    for i in job_name:\n",
    "        postes.append(i.find(\"a\").text.strip(\"\\n\"))\n",
    "\n",
    "        \n",
    "    # obtenir le nom de la société qui recrute\n",
    "    society = soup.find_all(\"div\", attrs={\"class\":\"snapshot\"})\n",
    "    \n",
    "    for i in society:\n",
    "        societes.append(i.find(\"a\").text.strip(\"\\n\"))\n",
    "        \n",
    "        \n",
    "    # obtenir le type de contrat\n",
    "    contract = soup.find_all(\"div\", attrs={\"class\":\"snapshot\"})\n",
    "    \n",
    "    for i in contract:\n",
    "        contrats.append(i.find_all(\"div\", class_=\"snapshot-item\")[1].text.strip(\"\\n\"))\n",
    "    \n",
    "        \n",
    "    # obtenir les compétences demandées\n",
    "    skill_tags = soup.find_all(\"div\", attrs={\"class\":\"tags\"})\n",
    "    \n",
    "    for i in skill_tags:\n",
    "        if skill_tags is not None:\n",
    "            competences.append(i.text.strip(\"\\n\"))"
   ]
  },
  {
   "cell_type": "code",
   "execution_count": 10,
   "metadata": {},
   "outputs": [],
   "source": [
    "# définition des colonnes\n",
    "d = {\"Intitule_Poste\": postes, \"Nom_Societe\": societes, \"Type_de_contrat\": contrats, \"Competences\": competences}"
   ]
  },
  {
   "cell_type": "code",
   "execution_count": 11,
   "metadata": {},
   "outputs": [
    {
     "data": {
      "text/html": [
       "<div>\n",
       "<style scoped>\n",
       "    .dataframe tbody tr th:only-of-type {\n",
       "        vertical-align: middle;\n",
       "    }\n",
       "\n",
       "    .dataframe tbody tr th {\n",
       "        vertical-align: top;\n",
       "    }\n",
       "\n",
       "    .dataframe thead th {\n",
       "        text-align: right;\n",
       "    }\n",
       "</style>\n",
       "<table border=\"1\" class=\"dataframe\">\n",
       "  <thead>\n",
       "    <tr style=\"text-align: right;\">\n",
       "      <th></th>\n",
       "      <th>Intitule_Poste</th>\n",
       "      <th>Nom_Societe</th>\n",
       "      <th>Type_de_contrat</th>\n",
       "      <th>Competences</th>\n",
       "    </tr>\n",
       "  </thead>\n",
       "  <tbody>\n",
       "    <tr>\n",
       "      <th>0</th>\n",
       "      <td>Data Analyste</td>\n",
       "      <td>EDELIA groupe EDF</td>\n",
       "      <td>CDI - temps plein</td>\n",
       "      <td>python\\n\\nux\\n\\nt-sql\\n\\nlinux\\n\\nnosql</td>\n",
       "    </tr>\n",
       "    <tr>\n",
       "      <th>1</th>\n",
       "      <td>Data Analyst F/H</td>\n",
       "      <td>Temenis Conseil</td>\n",
       "      <td>CDI - temps plein</td>\n",
       "      <td>t-sql\\n\\nsql\\n\\nbig data\\n\\nmicrosoft\\n\\nsystème</td>\n",
       "    </tr>\n",
       "    <tr>\n",
       "      <th>2</th>\n",
       "      <td>Data Analyst / Big Data</td>\n",
       "      <td>Groupe HN</td>\n",
       "      <td>CDI - temps plein</td>\n",
       "      <td>hadoop\\n\\nsql\\n\\nbig data\\n\\nmachine learning\\...</td>\n",
       "    </tr>\n",
       "    <tr>\n",
       "      <th>3</th>\n",
       "      <td>DATA ANALYSTE MARKETING ou DATA SCIENTIST</td>\n",
       "      <td>HR DNA</td>\n",
       "      <td>CDI - temps plein</td>\n",
       "      <td>marketing\\n\\noutils\\n\\nréseaux\\n\\nc++\\n\\nsupport</td>\n",
       "    </tr>\n",
       "    <tr>\n",
       "      <th>4</th>\n",
       "      <td>Data Analyst / Data Scientist Junior (H/F)</td>\n",
       "      <td>Synchrone</td>\n",
       "      <td>CDI - temps plein</td>\n",
       "      <td>digital\\n\\nbig data\\n\\nmachine learning\\n\\npyt...</td>\n",
       "    </tr>\n",
       "  </tbody>\n",
       "</table>\n",
       "</div>"
      ],
      "text/plain": [
       "                               Intitule_Poste        Nom_Societe  \\\n",
       "0                               Data Analyste  EDELIA groupe EDF   \n",
       "1                            Data Analyst F/H    Temenis Conseil   \n",
       "2                     Data Analyst / Big Data          Groupe HN   \n",
       "3   DATA ANALYSTE MARKETING ou DATA SCIENTIST             HR DNA   \n",
       "4  Data Analyst / Data Scientist Junior (H/F)          Synchrone   \n",
       "\n",
       "     Type_de_contrat                                        Competences  \n",
       "0  CDI - temps plein            python\\n\\nux\\n\\nt-sql\\n\\nlinux\\n\\nnosql  \n",
       "1  CDI - temps plein   t-sql\\n\\nsql\\n\\nbig data\\n\\nmicrosoft\\n\\nsystème  \n",
       "2  CDI - temps plein  hadoop\\n\\nsql\\n\\nbig data\\n\\nmachine learning\\...  \n",
       "3  CDI - temps plein   marketing\\n\\noutils\\n\\nréseaux\\n\\nc++\\n\\nsupport  \n",
       "4  CDI - temps plein  digital\\n\\nbig data\\n\\nmachine learning\\n\\npyt...  "
      ]
     },
     "execution_count": 11,
     "metadata": {},
     "output_type": "execute_result"
    }
   ],
   "source": [
    "# construction du dataframe\n",
    "df_final = pd.DataFrame(data=d)\n",
    "df_final.head()"
   ]
  },
  {
   "cell_type": "code",
   "execution_count": 12,
   "metadata": {},
   "outputs": [
    {
     "data": {
      "text/html": [
       "<div>\n",
       "<style scoped>\n",
       "    .dataframe tbody tr th:only-of-type {\n",
       "        vertical-align: middle;\n",
       "    }\n",
       "\n",
       "    .dataframe tbody tr th {\n",
       "        vertical-align: top;\n",
       "    }\n",
       "\n",
       "    .dataframe thead th {\n",
       "        text-align: right;\n",
       "    }\n",
       "</style>\n",
       "<table border=\"1\" class=\"dataframe\">\n",
       "  <thead>\n",
       "    <tr style=\"text-align: right;\">\n",
       "      <th></th>\n",
       "      <th>0</th>\n",
       "      <th>1</th>\n",
       "      <th>2</th>\n",
       "      <th>3</th>\n",
       "      <th>4</th>\n",
       "    </tr>\n",
       "  </thead>\n",
       "  <tbody>\n",
       "    <tr>\n",
       "      <th>0</th>\n",
       "      <td>python</td>\n",
       "      <td>ux</td>\n",
       "      <td>t-sql</td>\n",
       "      <td>linux</td>\n",
       "      <td>nosql</td>\n",
       "    </tr>\n",
       "    <tr>\n",
       "      <th>1</th>\n",
       "      <td>t-sql</td>\n",
       "      <td>sql</td>\n",
       "      <td>big data</td>\n",
       "      <td>microsoft</td>\n",
       "      <td>système</td>\n",
       "    </tr>\n",
       "    <tr>\n",
       "      <th>2</th>\n",
       "      <td>hadoop</td>\n",
       "      <td>sql</td>\n",
       "      <td>big data</td>\n",
       "      <td>machine learning</td>\n",
       "      <td>python</td>\n",
       "    </tr>\n",
       "    <tr>\n",
       "      <th>3</th>\n",
       "      <td>marketing</td>\n",
       "      <td>outils</td>\n",
       "      <td>réseaux</td>\n",
       "      <td>c++</td>\n",
       "      <td>support</td>\n",
       "    </tr>\n",
       "    <tr>\n",
       "      <th>4</th>\n",
       "      <td>digital</td>\n",
       "      <td>big data</td>\n",
       "      <td>machine learning</td>\n",
       "      <td>python</td>\n",
       "      <td>sql</td>\n",
       "    </tr>\n",
       "  </tbody>\n",
       "</table>\n",
       "</div>"
      ],
      "text/plain": [
       "           0         1                 2                 3        4\n",
       "0     python        ux             t-sql             linux    nosql\n",
       "1      t-sql       sql          big data         microsoft  système\n",
       "2     hadoop       sql          big data  machine learning   python\n",
       "3  marketing    outils           réseaux               c++  support\n",
       "4    digital  big data  machine learning            python      sql"
      ]
     },
     "execution_count": 12,
     "metadata": {},
     "output_type": "execute_result"
    }
   ],
   "source": [
    "# on split la colonne Competences\n",
    "competences_tags = df_final[\"Competences\"].str.split(\"\\n\\n\", n=4, expand=True)\n",
    "competences_tags.head()"
   ]
  },
  {
   "cell_type": "code",
   "execution_count": 13,
   "metadata": {},
   "outputs": [
    {
     "data": {
      "text/html": [
       "<div>\n",
       "<style scoped>\n",
       "    .dataframe tbody tr th:only-of-type {\n",
       "        vertical-align: middle;\n",
       "    }\n",
       "\n",
       "    .dataframe tbody tr th {\n",
       "        vertical-align: top;\n",
       "    }\n",
       "\n",
       "    .dataframe thead th {\n",
       "        text-align: right;\n",
       "    }\n",
       "</style>\n",
       "<table border=\"1\" class=\"dataframe\">\n",
       "  <thead>\n",
       "    <tr style=\"text-align: right;\">\n",
       "      <th></th>\n",
       "      <th>tag_1</th>\n",
       "      <th>tag_2</th>\n",
       "      <th>tag_3</th>\n",
       "      <th>tag_4</th>\n",
       "      <th>tag_5</th>\n",
       "    </tr>\n",
       "  </thead>\n",
       "  <tbody>\n",
       "    <tr>\n",
       "      <th>0</th>\n",
       "      <td>python</td>\n",
       "      <td>ux</td>\n",
       "      <td>t-sql</td>\n",
       "      <td>linux</td>\n",
       "      <td>nosql</td>\n",
       "    </tr>\n",
       "    <tr>\n",
       "      <th>1</th>\n",
       "      <td>t-sql</td>\n",
       "      <td>sql</td>\n",
       "      <td>big data</td>\n",
       "      <td>microsoft</td>\n",
       "      <td>système</td>\n",
       "    </tr>\n",
       "    <tr>\n",
       "      <th>2</th>\n",
       "      <td>hadoop</td>\n",
       "      <td>sql</td>\n",
       "      <td>big data</td>\n",
       "      <td>machine learning</td>\n",
       "      <td>python</td>\n",
       "    </tr>\n",
       "    <tr>\n",
       "      <th>3</th>\n",
       "      <td>marketing</td>\n",
       "      <td>outils</td>\n",
       "      <td>réseaux</td>\n",
       "      <td>c++</td>\n",
       "      <td>support</td>\n",
       "    </tr>\n",
       "    <tr>\n",
       "      <th>4</th>\n",
       "      <td>digital</td>\n",
       "      <td>big data</td>\n",
       "      <td>machine learning</td>\n",
       "      <td>python</td>\n",
       "      <td>sql</td>\n",
       "    </tr>\n",
       "  </tbody>\n",
       "</table>\n",
       "</div>"
      ],
      "text/plain": [
       "       tag_1     tag_2             tag_3             tag_4    tag_5\n",
       "0     python        ux             t-sql             linux    nosql\n",
       "1      t-sql       sql          big data         microsoft  système\n",
       "2     hadoop       sql          big data  machine learning   python\n",
       "3  marketing    outils           réseaux               c++  support\n",
       "4    digital  big data  machine learning            python      sql"
      ]
     },
     "execution_count": 13,
     "metadata": {},
     "output_type": "execute_result"
    }
   ],
   "source": [
    "competences_tags.columns=[\"tag_1\", \"tag_2\", \"tag_3\", \"tag_4\", \"tag_5\"]\n",
    "competences_tags.head()"
   ]
  },
  {
   "cell_type": "code",
   "execution_count": 14,
   "metadata": {},
   "outputs": [
    {
     "data": {
      "text/html": [
       "<div>\n",
       "<style scoped>\n",
       "    .dataframe tbody tr th:only-of-type {\n",
       "        vertical-align: middle;\n",
       "    }\n",
       "\n",
       "    .dataframe tbody tr th {\n",
       "        vertical-align: top;\n",
       "    }\n",
       "\n",
       "    .dataframe thead th {\n",
       "        text-align: right;\n",
       "    }\n",
       "</style>\n",
       "<table border=\"1\" class=\"dataframe\">\n",
       "  <thead>\n",
       "    <tr style=\"text-align: right;\">\n",
       "      <th></th>\n",
       "      <th>Intitule_Poste</th>\n",
       "      <th>Nom_Societe</th>\n",
       "      <th>Type_de_contrat</th>\n",
       "      <th>Competences</th>\n",
       "      <th>tag_1</th>\n",
       "      <th>tag_2</th>\n",
       "      <th>tag_3</th>\n",
       "      <th>tag_4</th>\n",
       "      <th>tag_5</th>\n",
       "    </tr>\n",
       "  </thead>\n",
       "  <tbody>\n",
       "    <tr>\n",
       "      <th>0</th>\n",
       "      <td>Data Analyste</td>\n",
       "      <td>EDELIA groupe EDF</td>\n",
       "      <td>CDI - temps plein</td>\n",
       "      <td>python\\n\\nux\\n\\nt-sql\\n\\nlinux\\n\\nnosql</td>\n",
       "      <td>python</td>\n",
       "      <td>ux</td>\n",
       "      <td>t-sql</td>\n",
       "      <td>linux</td>\n",
       "      <td>nosql</td>\n",
       "    </tr>\n",
       "    <tr>\n",
       "      <th>1</th>\n",
       "      <td>Data Analyst F/H</td>\n",
       "      <td>Temenis Conseil</td>\n",
       "      <td>CDI - temps plein</td>\n",
       "      <td>t-sql\\n\\nsql\\n\\nbig data\\n\\nmicrosoft\\n\\nsystème</td>\n",
       "      <td>t-sql</td>\n",
       "      <td>sql</td>\n",
       "      <td>big data</td>\n",
       "      <td>microsoft</td>\n",
       "      <td>système</td>\n",
       "    </tr>\n",
       "    <tr>\n",
       "      <th>2</th>\n",
       "      <td>Data Analyst / Big Data</td>\n",
       "      <td>Groupe HN</td>\n",
       "      <td>CDI - temps plein</td>\n",
       "      <td>hadoop\\n\\nsql\\n\\nbig data\\n\\nmachine learning\\...</td>\n",
       "      <td>hadoop</td>\n",
       "      <td>sql</td>\n",
       "      <td>big data</td>\n",
       "      <td>machine learning</td>\n",
       "      <td>python</td>\n",
       "    </tr>\n",
       "    <tr>\n",
       "      <th>3</th>\n",
       "      <td>DATA ANALYSTE MARKETING ou DATA SCIENTIST</td>\n",
       "      <td>HR DNA</td>\n",
       "      <td>CDI - temps plein</td>\n",
       "      <td>marketing\\n\\noutils\\n\\nréseaux\\n\\nc++\\n\\nsupport</td>\n",
       "      <td>marketing</td>\n",
       "      <td>outils</td>\n",
       "      <td>réseaux</td>\n",
       "      <td>c++</td>\n",
       "      <td>support</td>\n",
       "    </tr>\n",
       "    <tr>\n",
       "      <th>4</th>\n",
       "      <td>Data Analyst / Data Scientist Junior (H/F)</td>\n",
       "      <td>Synchrone</td>\n",
       "      <td>CDI - temps plein</td>\n",
       "      <td>digital\\n\\nbig data\\n\\nmachine learning\\n\\npyt...</td>\n",
       "      <td>digital</td>\n",
       "      <td>big data</td>\n",
       "      <td>machine learning</td>\n",
       "      <td>python</td>\n",
       "      <td>sql</td>\n",
       "    </tr>\n",
       "  </tbody>\n",
       "</table>\n",
       "</div>"
      ],
      "text/plain": [
       "                               Intitule_Poste        Nom_Societe  \\\n",
       "0                               Data Analyste  EDELIA groupe EDF   \n",
       "1                            Data Analyst F/H    Temenis Conseil   \n",
       "2                     Data Analyst / Big Data          Groupe HN   \n",
       "3   DATA ANALYSTE MARKETING ou DATA SCIENTIST             HR DNA   \n",
       "4  Data Analyst / Data Scientist Junior (H/F)          Synchrone   \n",
       "\n",
       "     Type_de_contrat                                        Competences  \\\n",
       "0  CDI - temps plein            python\\n\\nux\\n\\nt-sql\\n\\nlinux\\n\\nnosql   \n",
       "1  CDI - temps plein   t-sql\\n\\nsql\\n\\nbig data\\n\\nmicrosoft\\n\\nsystème   \n",
       "2  CDI - temps plein  hadoop\\n\\nsql\\n\\nbig data\\n\\nmachine learning\\...   \n",
       "3  CDI - temps plein   marketing\\n\\noutils\\n\\nréseaux\\n\\nc++\\n\\nsupport   \n",
       "4  CDI - temps plein  digital\\n\\nbig data\\n\\nmachine learning\\n\\npyt...   \n",
       "\n",
       "       tag_1     tag_2             tag_3             tag_4    tag_5  \n",
       "0     python        ux             t-sql             linux    nosql  \n",
       "1      t-sql       sql          big data         microsoft  système  \n",
       "2     hadoop       sql          big data  machine learning   python  \n",
       "3  marketing    outils           réseaux               c++  support  \n",
       "4    digital  big data  machine learning            python      sql  "
      ]
     },
     "execution_count": 14,
     "metadata": {},
     "output_type": "execute_result"
    }
   ],
   "source": [
    "# on marge le tableau initial avec le tableau de tags\n",
    "df_final2 = pd.merge(df_final, competences_tags, left_index=True, right_index=True)\n",
    "df_final2.head()"
   ]
  },
  {
   "cell_type": "code",
   "execution_count": 15,
   "metadata": {},
   "outputs": [],
   "source": [
    "# On supprime la colonne \"Competences\"\n",
    "df_final2.drop(\"Competences\", axis=1, inplace=True)"
   ]
  },
  {
   "cell_type": "code",
   "execution_count": 16,
   "metadata": {},
   "outputs": [
    {
     "data": {
      "text/html": [
       "<div>\n",
       "<style scoped>\n",
       "    .dataframe tbody tr th:only-of-type {\n",
       "        vertical-align: middle;\n",
       "    }\n",
       "\n",
       "    .dataframe tbody tr th {\n",
       "        vertical-align: top;\n",
       "    }\n",
       "\n",
       "    .dataframe thead th {\n",
       "        text-align: right;\n",
       "    }\n",
       "</style>\n",
       "<table border=\"1\" class=\"dataframe\">\n",
       "  <thead>\n",
       "    <tr style=\"text-align: right;\">\n",
       "      <th></th>\n",
       "      <th>Intitule_Poste</th>\n",
       "      <th>Nom_Societe</th>\n",
       "      <th>Type_de_contrat</th>\n",
       "      <th>tag_1</th>\n",
       "      <th>tag_2</th>\n",
       "      <th>tag_3</th>\n",
       "      <th>tag_4</th>\n",
       "      <th>tag_5</th>\n",
       "    </tr>\n",
       "  </thead>\n",
       "  <tbody>\n",
       "    <tr>\n",
       "      <th>0</th>\n",
       "      <td>Data Analyste</td>\n",
       "      <td>EDELIA groupe EDF</td>\n",
       "      <td>CDI - temps plein</td>\n",
       "      <td>python</td>\n",
       "      <td>ux</td>\n",
       "      <td>t-sql</td>\n",
       "      <td>linux</td>\n",
       "      <td>nosql</td>\n",
       "    </tr>\n",
       "    <tr>\n",
       "      <th>1</th>\n",
       "      <td>Data Analyst F/H</td>\n",
       "      <td>Temenis Conseil</td>\n",
       "      <td>CDI - temps plein</td>\n",
       "      <td>t-sql</td>\n",
       "      <td>sql</td>\n",
       "      <td>big data</td>\n",
       "      <td>microsoft</td>\n",
       "      <td>système</td>\n",
       "    </tr>\n",
       "    <tr>\n",
       "      <th>2</th>\n",
       "      <td>Data Analyst / Big Data</td>\n",
       "      <td>Groupe HN</td>\n",
       "      <td>CDI - temps plein</td>\n",
       "      <td>hadoop</td>\n",
       "      <td>sql</td>\n",
       "      <td>big data</td>\n",
       "      <td>machine learning</td>\n",
       "      <td>python</td>\n",
       "    </tr>\n",
       "    <tr>\n",
       "      <th>3</th>\n",
       "      <td>DATA ANALYSTE MARKETING ou DATA SCIENTIST</td>\n",
       "      <td>HR DNA</td>\n",
       "      <td>CDI - temps plein</td>\n",
       "      <td>marketing</td>\n",
       "      <td>outils</td>\n",
       "      <td>réseaux</td>\n",
       "      <td>c++</td>\n",
       "      <td>support</td>\n",
       "    </tr>\n",
       "    <tr>\n",
       "      <th>4</th>\n",
       "      <td>Data Analyst / Data Scientist Junior (H/F)</td>\n",
       "      <td>Synchrone</td>\n",
       "      <td>CDI - temps plein</td>\n",
       "      <td>digital</td>\n",
       "      <td>big data</td>\n",
       "      <td>machine learning</td>\n",
       "      <td>python</td>\n",
       "      <td>sql</td>\n",
       "    </tr>\n",
       "  </tbody>\n",
       "</table>\n",
       "</div>"
      ],
      "text/plain": [
       "                               Intitule_Poste        Nom_Societe  \\\n",
       "0                               Data Analyste  EDELIA groupe EDF   \n",
       "1                            Data Analyst F/H    Temenis Conseil   \n",
       "2                     Data Analyst / Big Data          Groupe HN   \n",
       "3   DATA ANALYSTE MARKETING ou DATA SCIENTIST             HR DNA   \n",
       "4  Data Analyst / Data Scientist Junior (H/F)          Synchrone   \n",
       "\n",
       "     Type_de_contrat      tag_1     tag_2             tag_3             tag_4  \\\n",
       "0  CDI - temps plein     python        ux             t-sql             linux   \n",
       "1  CDI - temps plein      t-sql       sql          big data         microsoft   \n",
       "2  CDI - temps plein     hadoop       sql          big data  machine learning   \n",
       "3  CDI - temps plein  marketing    outils           réseaux               c++   \n",
       "4  CDI - temps plein    digital  big data  machine learning            python   \n",
       "\n",
       "     tag_5  \n",
       "0    nosql  \n",
       "1  système  \n",
       "2   python  \n",
       "3  support  \n",
       "4      sql  "
      ]
     },
     "execution_count": 16,
     "metadata": {},
     "output_type": "execute_result"
    }
   ],
   "source": [
    "df_final2.head()"
   ]
  },
  {
   "cell_type": "code",
   "execution_count": 17,
   "metadata": {},
   "outputs": [],
   "source": [
    "import matplotlib.pyplot as plt\n",
    "import numpy as np"
   ]
  },
  {
   "cell_type": "code",
   "execution_count": 18,
   "metadata": {},
   "outputs": [
    {
     "data": {
      "text/plain": [
       "count                   200\n",
       "unique                    5\n",
       "top       CDI - temps plein\n",
       "freq                    182\n",
       "Name: Type_de_contrat, dtype: object"
      ]
     },
     "execution_count": 18,
     "metadata": {},
     "output_type": "execute_result"
    }
   ],
   "source": [
    "df_final2['Type_de_contrat'].describe()"
   ]
  },
  {
   "cell_type": "code",
   "execution_count": 19,
   "metadata": {},
   "outputs": [
    {
     "data": {
      "text/html": [
       "<div>\n",
       "<style scoped>\n",
       "    .dataframe tbody tr th:only-of-type {\n",
       "        vertical-align: middle;\n",
       "    }\n",
       "\n",
       "    .dataframe tbody tr th {\n",
       "        vertical-align: top;\n",
       "    }\n",
       "\n",
       "    .dataframe thead th {\n",
       "        text-align: right;\n",
       "    }\n",
       "</style>\n",
       "<table border=\"1\" class=\"dataframe\">\n",
       "  <thead>\n",
       "    <tr style=\"text-align: right;\">\n",
       "      <th></th>\n",
       "      <th>Intitule_Poste</th>\n",
       "      <th>Nom_Societe</th>\n",
       "      <th>tag_1</th>\n",
       "      <th>tag_2</th>\n",
       "      <th>tag_3</th>\n",
       "      <th>tag_4</th>\n",
       "      <th>tag_5</th>\n",
       "    </tr>\n",
       "    <tr>\n",
       "      <th>Type_de_contrat</th>\n",
       "      <th></th>\n",
       "      <th></th>\n",
       "      <th></th>\n",
       "      <th></th>\n",
       "      <th></th>\n",
       "      <th></th>\n",
       "      <th></th>\n",
       "    </tr>\n",
       "  </thead>\n",
       "  <tbody>\n",
       "    <tr>\n",
       "      <th>CDD/Intérim - temps partiel</th>\n",
       "      <td>1</td>\n",
       "      <td>1</td>\n",
       "      <td>1</td>\n",
       "      <td>1</td>\n",
       "      <td>0</td>\n",
       "      <td>0</td>\n",
       "      <td>0</td>\n",
       "    </tr>\n",
       "    <tr>\n",
       "      <th>CDI - temps plein</th>\n",
       "      <td>182</td>\n",
       "      <td>182</td>\n",
       "      <td>182</td>\n",
       "      <td>180</td>\n",
       "      <td>179</td>\n",
       "      <td>168</td>\n",
       "      <td>159</td>\n",
       "    </tr>\n",
       "    <tr>\n",
       "      <th>Contrat d'apprentissage</th>\n",
       "      <td>4</td>\n",
       "      <td>4</td>\n",
       "      <td>4</td>\n",
       "      <td>4</td>\n",
       "      <td>3</td>\n",
       "      <td>2</td>\n",
       "      <td>1</td>\n",
       "    </tr>\n",
       "    <tr>\n",
       "      <th>Contrat de professionnalisation</th>\n",
       "      <td>7</td>\n",
       "      <td>7</td>\n",
       "      <td>7</td>\n",
       "      <td>6</td>\n",
       "      <td>6</td>\n",
       "      <td>6</td>\n",
       "      <td>6</td>\n",
       "    </tr>\n",
       "    <tr>\n",
       "      <th>Stage</th>\n",
       "      <td>6</td>\n",
       "      <td>6</td>\n",
       "      <td>6</td>\n",
       "      <td>6</td>\n",
       "      <td>6</td>\n",
       "      <td>6</td>\n",
       "      <td>4</td>\n",
       "    </tr>\n",
       "  </tbody>\n",
       "</table>\n",
       "</div>"
      ],
      "text/plain": [
       "                                 Intitule_Poste  Nom_Societe  tag_1  tag_2  \\\n",
       "Type_de_contrat                                                              \n",
       "CDD/Intérim - temps partiel                   1            1      1      1   \n",
       "CDI - temps plein                           182          182    182    180   \n",
       "Contrat d'apprentissage                       4            4      4      4   \n",
       "Contrat de professionnalisation               7            7      7      6   \n",
       "Stage                                         6            6      6      6   \n",
       "\n",
       "                                 tag_3  tag_4  tag_5  \n",
       "Type_de_contrat                                       \n",
       "CDD/Intérim - temps partiel          0      0      0  \n",
       "CDI - temps plein                  179    168    159  \n",
       "Contrat d'apprentissage              3      2      1  \n",
       "Contrat de professionnalisation      6      6      6  \n",
       "Stage                                6      6      4  "
      ]
     },
     "execution_count": 19,
     "metadata": {},
     "output_type": "execute_result"
    }
   ],
   "source": [
    "class_contrat = df_final2.groupby('Type_de_contrat').count()\n",
    "class_contrat"
   ]
  },
  {
   "cell_type": "code",
   "execution_count": 20,
   "metadata": {},
   "outputs": [
    {
     "data": {
      "text/plain": [
       "array(['CDI - temps plein', 'Stage', \"Contrat d'apprentissage\",\n",
       "       'Contrat de professionnalisation', 'CDD/Intérim - temps partiel'],\n",
       "      dtype=object)"
      ]
     },
     "execution_count": 20,
     "metadata": {},
     "output_type": "execute_result"
    }
   ],
   "source": [
    "type_contrat_values = df_final2[\"Type_de_contrat\"].unique()\n",
    "type_contrat_values"
   ]
  },
  {
   "cell_type": "code",
   "execution_count": 21,
   "metadata": {},
   "outputs": [
    {
     "data": {
      "text/plain": [
       "Type_de_contrat\n",
       "CDD/Intérim - temps partiel          1\n",
       "CDI - temps plein                  182\n",
       "Contrat d'apprentissage              4\n",
       "Contrat de professionnalisation      7\n",
       "Stage                                6\n",
       "Name: Intitule_Poste, dtype: int64"
      ]
     },
     "execution_count": 21,
     "metadata": {},
     "output_type": "execute_result"
    }
   ],
   "source": [
    "contrat_nb = class_contrat[\"Intitule_Poste\"]\n",
    "contrat_nb"
   ]
  },
  {
   "cell_type": "code",
   "execution_count": 22,
   "metadata": {},
   "outputs": [
    {
     "data": {
      "text/plain": [
       "{'CDD/Intérim - temps partiel': 1}"
      ]
     },
     "execution_count": 22,
     "metadata": {},
     "output_type": "execute_result"
    }
   ],
   "source": [
    "dico_variable = dict({contrat_nb.index[0]: contrat_nb[0]})\n",
    "dico_variable"
   ]
  },
  {
   "cell_type": "code",
   "execution_count": 23,
   "metadata": {},
   "outputs": [
    {
     "data": {
      "text/plain": [
       "['CDD/Intérim - temps partiel']"
      ]
     },
     "execution_count": 23,
     "metadata": {},
     "output_type": "execute_result"
    }
   ],
   "source": [
    "list(dico_variable.keys())"
   ]
  },
  {
   "cell_type": "code",
   "execution_count": 24,
   "metadata": {
    "scrolled": true
   },
   "outputs": [
    {
     "name": "stdout",
     "output_type": "stream",
     "text": [
      "{'CDD/Intérim - temps partiel': 1, 'CDI - temps plein': 182, \"Contrat d'apprentissage\": 4, 'Contrat de professionnalisation': 7, 'Stage': 6}\n"
     ]
    }
   ],
   "source": [
    "dico_variable = {}\n",
    "for i in range(len(contrat_nb)):\n",
    "    dico_variable[contrat_nb.index[i]] = contrat_nb[i]\n",
    "print(dico_variable)"
   ]
  },
  {
   "cell_type": "code",
   "execution_count": 25,
   "metadata": {},
   "outputs": [],
   "source": [
    "label=['{}, ({})'.format(k,v) for k,v in dico_variable.items()]"
   ]
  },
  {
   "cell_type": "code",
   "execution_count": 40,
   "metadata": {},
   "outputs": [
    {
     "name": "stdout",
     "output_type": "stream",
     "text": [
      "[1, 182, 4, 7, 6]\n"
     ]
    },
    {
     "data": {
      "image/png": "[encoded data removed]",
      "text/plain": [
       "<Figure size 504x504 with 1 Axes>"
      ]
     },
     "metadata": {},
     "output_type": "display_data"
    }
   ],
   "source": [
    "labels = label\n",
    "sizes = list(dico_variable.values())\n",
    "print(sizes)\n",
    "explode = [0, 0, 0, 0, 0]\n",
    "\n",
    "fig = plt.figure(figsize=(7, 7))\n",
    "plt.pie(sizes, explode=explode, autopct='%1.1f%%',\n",
    "        shadow=False, startangle=90, labeldistance=1, pctdistance=1.1)\n",
    "plt.axis('equal')  # Equal aspect ratio ensures that pie is drawn as a circle.\n",
    "\n",
    "patches, texts = plt.pie(sizes, startangle=90)\n",
    "plt.legend(patches, labels, loc=\"center left\")\n",
    "\n",
    "plt.tight_layout()"
   ]
  },
  {
   "cell_type": "code",
   "execution_count": 110,
   "metadata": {},
   "outputs": [
    {
     "data": {
      "text/plain": [
       "outils                   23\n",
       "big data                 15\n",
       "support                  10\n",
       "sql                       9\n",
       "digital                   9\n",
       "si                        9\n",
       "marketing                 8\n",
       "crm                       8\n",
       "python                    7\n",
       "sap                       6\n",
       "agile                     6\n",
       "cloud                     5\n",
       "business intelligence     5\n",
       "machine learning          5\n",
       "data management           5\n",
       "Name: tag_1, dtype: int64"
      ]
     },
     "execution_count": 110,
     "metadata": {},
     "output_type": "execute_result"
    }
   ],
   "source": [
    "tag1_list= df_final2[\"tag_1\"].value_counts().head(15)\n",
    "tag1_list"
   ]
  },
  {
   "cell_type": "code",
   "execution_count": 126,
   "metadata": {},
   "outputs": [
    {
     "data": {
      "text/plain": [
       "<matplotlib.axes._subplots.AxesSubplot at 0x12214dcf8>"
      ]
     },
     "execution_count": 126,
     "metadata": {},
     "output_type": "execute_result"
    },
    {
     "data": {
      "image/png": "[encoded data removed]",
      "text/plain": [
       "<Figure size 800x500 with 1 Axes>"
      ]
     },
     "metadata": {},
     "output_type": "display_data"
    }
   ],
   "source": [
    "plt.figure(figsize=(8,5))\n",
    "tag1_list.head(15).plot(kind='barh',title=\"Tag 1\")"
   ]
  },
  {
   "cell_type": "code",
   "execution_count": 121,
   "metadata": {},
   "outputs": [],
   "source": [
    "tag2_list = df_final2[\"tag_2\"].value_counts().head(15)"
   ]
  },
  {
   "cell_type": "code",
   "execution_count": 123,
   "metadata": {},
   "outputs": [
    {
     "data": {
      "text/plain": [
       "<matplotlib.axes._subplots.AxesSubplot at 0x1222b8550>"
      ]
     },
     "execution_count": 123,
     "metadata": {},
     "output_type": "execute_result"
    },
    {
     "data": {
      "image/png": "[encoded data removed]",
      "text/plain": [
       "<Figure size 800x500 with 1 Axes>"
      ]
     },
     "metadata": {},
     "output_type": "display_data"
    }
   ],
   "source": [
    "plt.figure(figsize=(8,5))\n",
    "tag2_list.head(15).plot(kind='barh',title=\"Tag 2\")"
   ]
  }
 ],
 "metadata": {
  "kernelspec": {
   "display_name": "Python 3",
   "language": "python",
   "name": "python3"
  },
  "language_info": {
   "codemirror_mode": {
    "name": "ipython",
    "version": 3
   },
   "file_extension": ".py",
   "mimetype": "text/x-python",
   "name": "python",
   "nbconvert_exporter": "python",
   "pygments_lexer": "ipython3",
   "version": "3.7.1"
  }
 },
 "nbformat": 4,
 "nbformat_minor": 2
}
